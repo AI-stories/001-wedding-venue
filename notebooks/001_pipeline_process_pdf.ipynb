{
 "cells": [
  {
   "cell_type": "code",
   "execution_count": 1,
   "metadata": {},
   "outputs": [
    {
     "name": "stdout",
     "output_type": "stream",
     "text": [
      "Loaded existing FAISS index from faiss_db\n"
     ]
    },
    {
     "data": {
      "text/plain": [
       "set()"
      ]
     },
     "execution_count": 1,
     "metadata": {},
     "output_type": "execute_result"
    }
   ],
   "source": [
    "import sys\n",
    "\n",
    "sys.path.append(\"..\")\n",
    "from function.retriever import initialize_retriever\n",
    "\n",
    "retriever = initialize_retriever()\n",
    "\n",
    "metadatas = [entry.metadata for entry in retriever.vectorstore.docstore._dict.values()]\n",
    "all_stored_venues = set(_[\"company\"] for _ in metadatas)\n",
    "all_stored_venues"
   ]
  },
  {
   "cell_type": "code",
   "execution_count": 2,
   "metadata": {},
   "outputs": [
    {
     "data": {
      "text/plain": [
       "'Fig House Venue'"
      ]
     },
     "execution_count": 2,
     "metadata": {},
     "output_type": "execute_result"
    }
   ],
   "source": [
    "import sys\n",
    "from pathlib import Path\n",
    "\n",
    "from function.cloud import list_files\n",
    "\n",
    "all_venues = set([Path(path).stem for path in list_files(filter=r\"venues/\")])\n",
    "\n",
    "unprocessed_venues = all_venues - all_stored_venues\n",
    "venue = list(unprocessed_venues)[1]\n",
    "venue\n"
   ]
  },
  {
   "cell_type": "code",
   "execution_count": 4,
   "metadata": {},
   "outputs": [
    {
     "name": "stdout",
     "output_type": "stream",
     "text": [
      "searching for Fig House Venue.pdf on google cloud...\n",
      "downloading Fig House Venue.pdf from google cloud...\n",
      "sending Fig House Venue.pdf to Adobe...\n",
      "extracting text from pdf...\n",
      "2024-12-21 22:16:00 unzip file\n",
      "2024-12-21 22:16:00 open json file\n",
      "2024-12-21 22:16:00 extract text\n",
      "generating image descriptions for Fig House Venue.pdf\n",
      "Generating image descriptions...\n",
      "   (1/14) /var/folders/g6/gqdf2y4n3jj4f0vml_0s_q1r0000gn/T/tmpvfliorqk/figures/fileoutpart8.png\n",
      "Error processing image /var/folders/g6/gqdf2y4n3jj4f0vml_0s_q1r0000gn/T/tmpvfliorqk/figures/fileoutpart8.png: Error code: 401 - {'error': {'message': 'Incorrect API key provided: **********. You can find your API key at https://platform.openai.com/account/api-keys.', 'type': 'invalid_request_error', 'param': None, 'code': 'invalid_api_key'}}\n",
      "   (2/14) /var/folders/g6/gqdf2y4n3jj4f0vml_0s_q1r0000gn/T/tmpvfliorqk/figures/fileoutpart9.png\n",
      "Error processing image /var/folders/g6/gqdf2y4n3jj4f0vml_0s_q1r0000gn/T/tmpvfliorqk/figures/fileoutpart9.png: Error code: 401 - {'error': {'message': 'Incorrect API key provided: **********. You can find your API key at https://platform.openai.com/account/api-keys.', 'type': 'invalid_request_error', 'param': None, 'code': 'invalid_api_key'}}\n",
      "   (3/14) /var/folders/g6/gqdf2y4n3jj4f0vml_0s_q1r0000gn/T/tmpvfliorqk/figures/fileoutpart14.png\n",
      "skipping /var/folders/g6/gqdf2y4n3jj4f0vml_0s_q1r0000gn/T/tmpvfliorqk/figures/fileoutpart14.png\n",
      "   (4/14) /var/folders/g6/gqdf2y4n3jj4f0vml_0s_q1r0000gn/T/tmpvfliorqk/figures/fileoutpart15.png\n",
      "Error processing image /var/folders/g6/gqdf2y4n3jj4f0vml_0s_q1r0000gn/T/tmpvfliorqk/figures/fileoutpart15.png: Error code: 401 - {'error': {'message': 'Incorrect API key provided: **********. You can find your API key at https://platform.openai.com/account/api-keys.', 'type': 'invalid_request_error', 'param': None, 'code': 'invalid_api_key'}}\n",
      "   (5/14) /var/folders/g6/gqdf2y4n3jj4f0vml_0s_q1r0000gn/T/tmpvfliorqk/figures/fileoutpart12.png\n",
      "Error processing image /var/folders/g6/gqdf2y4n3jj4f0vml_0s_q1r0000gn/T/tmpvfliorqk/figures/fileoutpart12.png: Error code: 401 - {'error': {'message': 'Incorrect API key provided: **********. You can find your API key at https://platform.openai.com/account/api-keys.', 'type': 'invalid_request_error', 'param': None, 'code': 'invalid_api_key'}}\n",
      "   (6/14) /var/folders/g6/gqdf2y4n3jj4f0vml_0s_q1r0000gn/T/tmpvfliorqk/figures/fileoutpart13.png\n",
      "skipping /var/folders/g6/gqdf2y4n3jj4f0vml_0s_q1r0000gn/T/tmpvfliorqk/figures/fileoutpart13.png\n",
      "   (7/14) /var/folders/g6/gqdf2y4n3jj4f0vml_0s_q1r0000gn/T/tmpvfliorqk/figures/fileoutpart7.png\n",
      "Error processing image /var/folders/g6/gqdf2y4n3jj4f0vml_0s_q1r0000gn/T/tmpvfliorqk/figures/fileoutpart7.png: Error code: 401 - {'error': {'message': 'Incorrect API key provided: **********. You can find your API key at https://platform.openai.com/account/api-keys.', 'type': 'invalid_request_error', 'param': None, 'code': 'invalid_api_key'}}\n",
      "   (8/14) /var/folders/g6/gqdf2y4n3jj4f0vml_0s_q1r0000gn/T/tmpvfliorqk/figures/fileoutpart6.png\n",
      "Error processing image /var/folders/g6/gqdf2y4n3jj4f0vml_0s_q1r0000gn/T/tmpvfliorqk/figures/fileoutpart6.png: Error code: 401 - {'error': {'message': 'Incorrect API key provided: **********. You can find your API key at https://platform.openai.com/account/api-keys.', 'type': 'invalid_request_error', 'param': None, 'code': 'invalid_api_key'}}\n",
      "   (9/14) /var/folders/g6/gqdf2y4n3jj4f0vml_0s_q1r0000gn/T/tmpvfliorqk/figures/fileoutpart4.png\n",
      "Error processing image /var/folders/g6/gqdf2y4n3jj4f0vml_0s_q1r0000gn/T/tmpvfliorqk/figures/fileoutpart4.png: Error code: 401 - {'error': {'message': 'Incorrect API key provided: **********. You can find your API key at https://platform.openai.com/account/api-keys.', 'type': 'invalid_request_error', 'param': None, 'code': 'invalid_api_key'}}\n",
      "   (10/14) /var/folders/g6/gqdf2y4n3jj4f0vml_0s_q1r0000gn/T/tmpvfliorqk/figures/fileoutpart5.png\n",
      "Error processing image /var/folders/g6/gqdf2y4n3jj4f0vml_0s_q1r0000gn/T/tmpvfliorqk/figures/fileoutpart5.png: Error code: 401 - {'error': {'message': 'Incorrect API key provided: **********. You can find your API key at https://platform.openai.com/account/api-keys.', 'type': 'invalid_request_error', 'param': None, 'code': 'invalid_api_key'}}\n",
      "   (11/14) /var/folders/g6/gqdf2y4n3jj4f0vml_0s_q1r0000gn/T/tmpvfliorqk/figures/fileoutpart1.png\n",
      "skipping /var/folders/g6/gqdf2y4n3jj4f0vml_0s_q1r0000gn/T/tmpvfliorqk/figures/fileoutpart1.png\n",
      "   (12/14) /var/folders/g6/gqdf2y4n3jj4f0vml_0s_q1r0000gn/T/tmpvfliorqk/figures/fileoutpart0.png\n",
      "Error processing image /var/folders/g6/gqdf2y4n3jj4f0vml_0s_q1r0000gn/T/tmpvfliorqk/figures/fileoutpart0.png: Error code: 401 - {'error': {'message': 'Incorrect API key provided: **********. You can find your API key at https://platform.openai.com/account/api-keys.', 'type': 'invalid_request_error', 'param': None, 'code': 'invalid_api_key'}}\n",
      "   (13/14) /var/folders/g6/gqdf2y4n3jj4f0vml_0s_q1r0000gn/T/tmpvfliorqk/figures/fileoutpart2.png\n",
      "Error processing image /var/folders/g6/gqdf2y4n3jj4f0vml_0s_q1r0000gn/T/tmpvfliorqk/figures/fileoutpart2.png: Error code: 401 - {'error': {'message': 'Incorrect API key provided: **********. You can find your API key at https://platform.openai.com/account/api-keys.', 'type': 'invalid_request_error', 'param': None, 'code': 'invalid_api_key'}}\n",
      "   (14/14) /var/folders/g6/gqdf2y4n3jj4f0vml_0s_q1r0000gn/T/tmpvfliorqk/figures/fileoutpart3.png\n",
      "Error processing image /var/folders/g6/gqdf2y4n3jj4f0vml_0s_q1r0000gn/T/tmpvfliorqk/figures/fileoutpart3.png: Error code: 401 - {'error': {'message': 'Incorrect API key provided: **********. You can find your API key at https://platform.openai.com/account/api-keys.', 'type': 'invalid_request_error', 'param': None, 'code': 'invalid_api_key'}}\n",
      "uploading adobe_extracted_directory to google cloud\n"
     ]
    }
   ],
   "source": [
    "import sys\n",
    "\n",
    "sys.path.append(\"..\")\n",
    "\n",
    "from function.retriever import preprocess_document\n",
    "\n",
    "info = preprocess_document(venue)\n"
   ]
  },
  {
   "cell_type": "code",
   "execution_count": null,
   "metadata": {},
   "outputs": [],
   "source": [
    "import os\n",
    "\n",
    "from function.retriever import add_documents_to_retriever\n",
    "\n",
    "PERSIST_DIRECTORY: str = os.getenv(\"DATABASE_DIR\")\n",
    "\n",
    "add_documents_to_retriever({venue: info}, retriever)\n",
    "retriever.vectorstore.save_local(PERSIST_DIRECTORY)\n"
   ]
  }
 ],
 "metadata": {
  "kernelspec": {
   "display_name": "wedding",
   "language": "python",
   "name": "python3"
  },
  "language_info": {
   "codemirror_mode": {
    "name": "ipython",
    "version": 3
   },
   "file_extension": ".py",
   "mimetype": "text/x-python",
   "name": "python",
   "nbconvert_exporter": "python",
   "pygments_lexer": "ipython3",
   "version": "3.11.11"
  }
 },
 "nbformat": 4,
 "nbformat_minor": 2
}
