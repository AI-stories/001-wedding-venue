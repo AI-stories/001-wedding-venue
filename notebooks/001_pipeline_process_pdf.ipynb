{
 "cells": [
  {
   "cell_type": "code",
   "execution_count": 1,
   "metadata": {},
   "outputs": [
    {
     "name": "stdout",
     "output_type": "stream",
     "text": [
      "Created new FAISS index in faiss_db\n"
     ]
    },
    {
     "data": {
      "text/plain": [
       "{'dummy'}"
      ]
     },
     "execution_count": 1,
     "metadata": {},
     "output_type": "execute_result"
    }
   ],
   "source": [
    "import io\n",
    "import sys\n",
    "\n",
    "from google.cloud import storage\n",
    "\n",
    "sys.path.append(\"..\")\n",
    "from function.retriever import initialize_retriever\n",
    "\n",
    "retriever = initialize_retriever()\n",
    "\n",
    "metadatas = [entry.metadata for entry in retriever.vectorstore.docstore._dict.values()]\n",
    "all_stored_venues = set(_[\"company\"] for _ in metadatas)\n",
    "all_stored_venues"
   ]
  },
  {
   "cell_type": "code",
   "execution_count": 2,
   "metadata": {},
   "outputs": [
    {
     "data": {
      "text/plain": [
       "'The Los Angeles Arboretum'"
      ]
     },
     "execution_count": 2,
     "metadata": {},
     "output_type": "execute_result"
    }
   ],
   "source": [
    "from pathlib import Path\n",
    "\n",
    "from function.cloud import list_files\n",
    "\n",
    "all_venues = set([Path(path).stem for path in list_files(filter=r\"venues/\")])\n",
    "\n",
    "unprocessed_venues = all_venues - all_stored_venues\n",
    "venue = list(unprocessed_venues)[1]\n",
    "venue\n"
   ]
  },
  {
   "cell_type": "code",
   "execution_count": 3,
   "metadata": {},
   "outputs": [
    {
     "name": "stdout",
     "output_type": "stream",
     "text": [
      "searching for Majestic Garden Hotel.pdf on google cloud...\n",
      "downloading Majestic Garden Hotel.pdf from google cloud...\n",
      "sending Majestic Garden Hotel.pdf to Adobe...\n",
      "extracting text from pdf...\n",
      "2024-12-22 00:28:19 unzip file\n",
      "2024-12-22 00:28:19 open json file\n",
      "2024-12-22 00:28:19 extract text\n",
      "generating image descriptions for Majestic Garden Hotel.pdf\n",
      "Generating image descriptions...\n",
      "   (1/2) /var/folders/ny/x98qxh1124dbtz5g3f6s09hh0000gn/T/tmp216si82o/figures/fileoutpart1.png\n",
      "   (2/2) /var/folders/ny/x98qxh1124dbtz5g3f6s09hh0000gn/T/tmp216si82o/figures/fileoutpart0.png\n",
      "skipping /var/folders/ny/x98qxh1124dbtz5g3f6s09hh0000gn/T/tmp216si82o/figures/fileoutpart0.png\n",
      "uploading adobe_extracted_directory to google cloud\n"
     ]
    }
   ],
   "source": [
    "from dotenv import load_dotenv\n",
    "\n",
    "from function.retriever import preprocess_document\n",
    "\n",
    "load_dotenv(override=True)\n",
    "\n",
    "info = preprocess_document(\"Majestic Garden Hotel\")\n"
   ]
  },
  {
   "cell_type": "code",
   "execution_count": 5,
   "metadata": {},
   "outputs": [
    {
     "name": "stdout",
     "output_type": "stream",
     "text": [
      "Processed document: Vellano Estate by Wedgewodo Weddings\n"
     ]
    }
   ],
   "source": [
    "import os\n",
    "\n",
    "from function.retriever import add_documents_to_retriever\n",
    "\n",
    "PERSIST_DIRECTORY: str = os.getenv(\"DATABASE_DIR\")\n",
    "\n",
    "add_documents_to_retriever({venue: info}, retriever)\n",
    "retriever.vectorstore.save_local(PERSIST_DIRECTORY)\n"
   ]
  },
  {
   "cell_type": "code",
   "execution_count": 3,
   "metadata": {},
   "outputs": [],
   "source": [
    "import sys\n",
    "from typing import Any, Dict\n",
    "\n",
    "import pandas as pd\n",
    "\n",
    "sys.path.append(\"..\")\n",
    "from function.retriever import *\n"
   ]
  },
  {
   "cell_type": "code",
   "execution_count": 4,
   "metadata": {},
   "outputs": [],
   "source": [
    "def load_venue_metadata() -> Dict[str, Dict[str, Any]]:\n",
    "    \"\"\"\n",
    "    Load venue metadata from Excel file into a dictionary.\n",
    "\n",
    "    Parameters\n",
    "    ----------\n",
    "    excel_path : str\n",
    "        Path to the Excel file containing venue metadata\n",
    "\n",
    "    Returns\n",
    "    -------\n",
    "    Dict[str, Dict[str, Any]]\n",
    "        Dictionary with venue names as keys and their metadata as values\n",
    "    \"\"\"\n",
    "    bucket_name = \"wedding-venues-001\"\n",
    "    storage_client = storage.Client()\n",
    "    bucket = storage_client.bucket(bucket_name)\n",
    "\n",
    "    excel_blob = bucket.blob(\"Wedding Venues.xlsx\")\n",
    "    excel_content = excel_blob.download_as_bytes()\n",
    "    df = pd.read_excel(io.BytesIO(excel_content))\n",
    "    # Assuming 'venue_name' is the column that matches the folder names\n",
    "    metadata_dict = {}\n",
    "    for _, row in df.iterrows():\n",
    "        metadata_dict[row[\"Venue name\"]] = {\n",
    "            \"phone\": row.get(\"Phone\", \"\"),\n",
    "            \"address\": row.get(\"Location\", \"\"),\n",
    "            \"website\": row.get(\"Website \", \"\"),\n",
    "        }\n",
    "    return metadata_dict"
   ]
  },
  {
   "cell_type": "code",
   "execution_count": 5,
   "metadata": {},
   "outputs": [],
   "source": [
    "def preprocess_document(\n",
    "    venue: str, venue_metadata: Dict[str, Dict[str, Any]]\n",
    ") -> dict[str, Any]:\n",
    "    \"\"\"\n",
    "    Modified version of preprocess_document that includes venue metadata.\n",
    "    \"\"\"\n",
    "    with (\n",
    "        NamedTemporaryFile(suffix=\".pdf\") as temp_pdf_file,\n",
    "        NamedTemporaryFile(suffix=\".zip\") as temp_zip_file,\n",
    "        TemporaryDirectory() as temp_output_dir,\n",
    "    ):\n",
    "        print(f\"searching for {venue}.pdf on google cloud...\")\n",
    "        cloud_venue_path = list_files(filter=rf\"venues/{venue}/.*.pdf\")[0]\n",
    "        print(f\"downloading {venue}.pdf from google cloud...\")\n",
    "        download_file(cloud_venue_path, temp_pdf_file.name)\n",
    "        print(f\"sending {venue}.pdf to Adobe...\")\n",
    "        adobeLoader(temp_pdf_file.name, temp_zip_file.name)\n",
    "        print(\"extracting text from pdf...\")\n",
    "        text_content = extract_text_from_file_adobe(temp_zip_file.name, temp_output_dir)\n",
    "\n",
    "        extracted_figure_folder = Path(temp_output_dir) / \"figures\"\n",
    "        if not extracted_figure_folder.exists():\n",
    "            print(f\"no images found for {venue}.pdf\")\n",
    "            image_descriptions = []\n",
    "        else:\n",
    "            print(f\"generating image descriptions for {venue}.pdf\")\n",
    "            image_descriptions = generate_image_descriptions(\n",
    "                base_dir=extracted_figure_folder,\n",
    "                venue=venue,\n",
    "            )\n",
    "        print(\"uploading adobe_extracted_directory to google cloud\")\n",
    "        upload_directory(temp_output_dir, f\"/processed/adobe_extracted/{venue}/\")\n",
    "\n",
    "    doc_id = str(uuid.uuid4())\n",
    "    # Include venue metadata in document_info\n",
    "    venue_info = venue_metadata.get(venue, {})\n",
    "    document_info = {\n",
    "        \"doc_id\": doc_id,\n",
    "        \"text_content\": text_content,\n",
    "        \"image_descriptions\": image_descriptions,\n",
    "        \"metadata\": venue_info,\n",
    "    }\n",
    "\n",
    "    return document_info"
   ]
  },
  {
   "cell_type": "code",
   "execution_count": 6,
   "metadata": {},
   "outputs": [],
   "source": [
    "def add_documents_to_retriever(\n",
    "    documents: dict[str, dict[str, Any]],\n",
    "    retriever: MultiVectorRetriever,\n",
    "    venue_metadata: Dict[str, Dict[str, Any]],\n",
    ") -> None:\n",
    "    \"\"\"\n",
    "    Modified version of add_documents_to_retriever that includes venue metadata.\n",
    "    \"\"\"\n",
    "    id_key = \"content_id\"\n",
    "\n",
    "    for pdf_name, doc_info in documents.items():\n",
    "        # Get venue metadata\n",
    "        venue_info = venue_metadata.get(pdf_name, {})\n",
    "        text_docs = [\n",
    "            Document(\n",
    "                page_content=doc_info[\"text_content\"],\n",
    "                metadata={\n",
    "                    id_key: f\"{doc_info['doc_id']}_text\",\n",
    "                    \"doc_id\": doc_info[\"doc_id\"],\n",
    "                    \"company\": pdf_name,\n",
    "                    \"type\": \"text\",\n",
    "                    \"website\": venue_info.get(\"website\", \"\"),\n",
    "                    \"address\": venue_info.get(\"address\", \"\"),\n",
    "                    \"phone\": venue_info.get(\"phone\", \"\"),\n",
    "                },\n",
    "            )\n",
    "        ]\n",
    "\n",
    "        # Create image documents with metadata\n",
    "        image_ids = [\n",
    "            f\"{doc_info['doc_id']}_image_{i}\"\n",
    "            for i in range(len(doc_info[\"image_descriptions\"]))\n",
    "        ]\n",
    "        image_docs = [\n",
    "            Document(\n",
    "                page_content=item[\"description\"],\n",
    "                metadata={\n",
    "                    id_key: image_ids[i],\n",
    "                    \"doc_id\": doc_info[\"doc_id\"],\n",
    "                    \"company\": pdf_name,\n",
    "                    \"type\": \"image\",\n",
    "                    \"image_path\": item[\"image_path\"],\n",
    "                    \"website\": venue_info.get(\"website\", \"\"),\n",
    "                    \"address\": venue_info.get(\"address\", \"\"),\n",
    "                    \"phone\": venue_info.get(\"phone\", \"\"),\n",
    "                    # Add any other metadata fields\n",
    "                },\n",
    "            )\n",
    "            for i, item in enumerate(doc_info[\"image_descriptions\"])\n",
    "        ]\n",
    "\n",
    "        all_docs = text_docs + image_docs\n",
    "        retriever.vectorstore.add_documents(all_docs)\n",
    "\n",
    "        original_data = [(doc.metadata[id_key], doc) for doc in all_docs]\n",
    "        retriever.docstore.mset(original_data)\n",
    "\n",
    "        print(f\"Processed document: {pdf_name}\")"
   ]
  },
  {
   "cell_type": "code",
   "execution_count": 7,
   "metadata": {},
   "outputs": [],
   "source": [
    "venue_metadata = load_venue_metadata()"
   ]
  },
  {
   "cell_type": "code",
   "execution_count": 8,
   "metadata": {},
   "outputs": [
    {
     "name": "stdout",
     "output_type": "stream",
     "text": [
      "searching for The Los Angeles Arboretum.pdf on google cloud...\n",
      "downloading The Los Angeles Arboretum.pdf from google cloud...\n",
      "sending The Los Angeles Arboretum.pdf to Adobe...\n",
      "extracting text from pdf...\n",
      "2024-12-22 01:47:17 unzip file\n",
      "2024-12-22 01:47:17 open json file\n",
      "2024-12-22 01:47:17 extract text\n",
      "generating image descriptions for The Los Angeles Arboretum.pdf\n",
      "Generating image descriptions...\n",
      "   (1/45) /var/folders/ny/x98qxh1124dbtz5g3f6s09hh0000gn/T/tmpi_p_wchr/figures/fileoutpart41.png\n",
      "skipping /var/folders/ny/x98qxh1124dbtz5g3f6s09hh0000gn/T/tmpi_p_wchr/figures/fileoutpart41.png\n",
      "   (2/45) /var/folders/ny/x98qxh1124dbtz5g3f6s09hh0000gn/T/tmpi_p_wchr/figures/fileoutpart40.png\n",
      "skipping /var/folders/ny/x98qxh1124dbtz5g3f6s09hh0000gn/T/tmpi_p_wchr/figures/fileoutpart40.png\n",
      "   (3/45) /var/folders/ny/x98qxh1124dbtz5g3f6s09hh0000gn/T/tmpi_p_wchr/figures/fileoutpart42.png\n",
      "   (4/45) /var/folders/ny/x98qxh1124dbtz5g3f6s09hh0000gn/T/tmpi_p_wchr/figures/fileoutpart43.png\n",
      "skipping /var/folders/ny/x98qxh1124dbtz5g3f6s09hh0000gn/T/tmpi_p_wchr/figures/fileoutpart43.png\n",
      "   (5/45) /var/folders/ny/x98qxh1124dbtz5g3f6s09hh0000gn/T/tmpi_p_wchr/figures/fileoutpart8.png\n",
      "   (6/45) /var/folders/ny/x98qxh1124dbtz5g3f6s09hh0000gn/T/tmpi_p_wchr/figures/fileoutpart47.png\n",
      "skipping /var/folders/ny/x98qxh1124dbtz5g3f6s09hh0000gn/T/tmpi_p_wchr/figures/fileoutpart47.png\n",
      "   (7/45) /var/folders/ny/x98qxh1124dbtz5g3f6s09hh0000gn/T/tmpi_p_wchr/figures/fileoutpart46.png\n",
      "skipping /var/folders/ny/x98qxh1124dbtz5g3f6s09hh0000gn/T/tmpi_p_wchr/figures/fileoutpart46.png\n",
      "   (8/45) /var/folders/ny/x98qxh1124dbtz5g3f6s09hh0000gn/T/tmpi_p_wchr/figures/fileoutpart9.png\n",
      "   (9/45) /var/folders/ny/x98qxh1124dbtz5g3f6s09hh0000gn/T/tmpi_p_wchr/figures/fileoutpart44.png\n",
      "skipping /var/folders/ny/x98qxh1124dbtz5g3f6s09hh0000gn/T/tmpi_p_wchr/figures/fileoutpart44.png\n",
      "   (10/45) /var/folders/ny/x98qxh1124dbtz5g3f6s09hh0000gn/T/tmpi_p_wchr/figures/fileoutpart45.png\n",
      "skipping /var/folders/ny/x98qxh1124dbtz5g3f6s09hh0000gn/T/tmpi_p_wchr/figures/fileoutpart45.png\n",
      "   (11/45) /var/folders/ny/x98qxh1124dbtz5g3f6s09hh0000gn/T/tmpi_p_wchr/figures/fileoutpart22.png\n",
      "skipping /var/folders/ny/x98qxh1124dbtz5g3f6s09hh0000gn/T/tmpi_p_wchr/figures/fileoutpart22.png\n",
      "   (12/45) /var/folders/ny/x98qxh1124dbtz5g3f6s09hh0000gn/T/tmpi_p_wchr/figures/fileoutpart36.png\n",
      "   (13/45) /var/folders/ny/x98qxh1124dbtz5g3f6s09hh0000gn/T/tmpi_p_wchr/figures/fileoutpart37.png\n",
      "skipping /var/folders/ny/x98qxh1124dbtz5g3f6s09hh0000gn/T/tmpi_p_wchr/figures/fileoutpart37.png\n",
      "   (14/45) /var/folders/ny/x98qxh1124dbtz5g3f6s09hh0000gn/T/tmpi_p_wchr/figures/fileoutpart23.png\n",
      "skipping /var/folders/ny/x98qxh1124dbtz5g3f6s09hh0000gn/T/tmpi_p_wchr/figures/fileoutpart23.png\n",
      "   (15/45) /var/folders/ny/x98qxh1124dbtz5g3f6s09hh0000gn/T/tmpi_p_wchr/figures/fileoutpart35.png\n",
      "skipping /var/folders/ny/x98qxh1124dbtz5g3f6s09hh0000gn/T/tmpi_p_wchr/figures/fileoutpart35.png\n",
      "   (16/45) /var/folders/ny/x98qxh1124dbtz5g3f6s09hh0000gn/T/tmpi_p_wchr/figures/fileoutpart34.png\n",
      "skipping /var/folders/ny/x98qxh1124dbtz5g3f6s09hh0000gn/T/tmpi_p_wchr/figures/fileoutpart34.png\n",
      "   (17/45) /var/folders/ny/x98qxh1124dbtz5g3f6s09hh0000gn/T/tmpi_p_wchr/figures/fileoutpart30.png\n",
      "skipping /var/folders/ny/x98qxh1124dbtz5g3f6s09hh0000gn/T/tmpi_p_wchr/figures/fileoutpart30.png\n",
      "   (18/45) /var/folders/ny/x98qxh1124dbtz5g3f6s09hh0000gn/T/tmpi_p_wchr/figures/fileoutpart24.png\n",
      "   (19/45) /var/folders/ny/x98qxh1124dbtz5g3f6s09hh0000gn/T/tmpi_p_wchr/figures/fileoutpart25.png\n",
      "skipping /var/folders/ny/x98qxh1124dbtz5g3f6s09hh0000gn/T/tmpi_p_wchr/figures/fileoutpart25.png\n",
      "   (20/45) /var/folders/ny/x98qxh1124dbtz5g3f6s09hh0000gn/T/tmpi_p_wchr/figures/fileoutpart31.png\n",
      "skipping /var/folders/ny/x98qxh1124dbtz5g3f6s09hh0000gn/T/tmpi_p_wchr/figures/fileoutpart31.png\n",
      "   (21/45) /var/folders/ny/x98qxh1124dbtz5g3f6s09hh0000gn/T/tmpi_p_wchr/figures/fileoutpart27.png\n",
      "skipping /var/folders/ny/x98qxh1124dbtz5g3f6s09hh0000gn/T/tmpi_p_wchr/figures/fileoutpart27.png\n",
      "   (22/45) /var/folders/ny/x98qxh1124dbtz5g3f6s09hh0000gn/T/tmpi_p_wchr/figures/fileoutpart33.png\n",
      "skipping /var/folders/ny/x98qxh1124dbtz5g3f6s09hh0000gn/T/tmpi_p_wchr/figures/fileoutpart33.png\n",
      "   (23/45) /var/folders/ny/x98qxh1124dbtz5g3f6s09hh0000gn/T/tmpi_p_wchr/figures/fileoutpart32.png\n",
      "skipping /var/folders/ny/x98qxh1124dbtz5g3f6s09hh0000gn/T/tmpi_p_wchr/figures/fileoutpart32.png\n",
      "   (24/45) /var/folders/ny/x98qxh1124dbtz5g3f6s09hh0000gn/T/tmpi_p_wchr/figures/fileoutpart26.png\n",
      "   (25/45) /var/folders/ny/x98qxh1124dbtz5g3f6s09hh0000gn/T/tmpi_p_wchr/figures/fileoutpart17.png\n",
      "skipping /var/folders/ny/x98qxh1124dbtz5g3f6s09hh0000gn/T/tmpi_p_wchr/figures/fileoutpart17.png\n",
      "   (26/45) /var/folders/ny/x98qxh1124dbtz5g3f6s09hh0000gn/T/tmpi_p_wchr/figures/fileoutpart16.png\n",
      "skipping /var/folders/ny/x98qxh1124dbtz5g3f6s09hh0000gn/T/tmpi_p_wchr/figures/fileoutpart16.png\n",
      "   (27/45) /var/folders/ny/x98qxh1124dbtz5g3f6s09hh0000gn/T/tmpi_p_wchr/figures/fileoutpart28.png\n",
      "skipping /var/folders/ny/x98qxh1124dbtz5g3f6s09hh0000gn/T/tmpi_p_wchr/figures/fileoutpart28.png\n",
      "   (28/45) /var/folders/ny/x98qxh1124dbtz5g3f6s09hh0000gn/T/tmpi_p_wchr/figures/fileoutpart14.png\n",
      "skipping /var/folders/ny/x98qxh1124dbtz5g3f6s09hh0000gn/T/tmpi_p_wchr/figures/fileoutpart14.png\n",
      "   (29/45) /var/folders/ny/x98qxh1124dbtz5g3f6s09hh0000gn/T/tmpi_p_wchr/figures/fileoutpart15.png\n",
      "skipping /var/folders/ny/x98qxh1124dbtz5g3f6s09hh0000gn/T/tmpi_p_wchr/figures/fileoutpart15.png\n",
      "   (30/45) /var/folders/ny/x98qxh1124dbtz5g3f6s09hh0000gn/T/tmpi_p_wchr/figures/fileoutpart29.png\n",
      "skipping /var/folders/ny/x98qxh1124dbtz5g3f6s09hh0000gn/T/tmpi_p_wchr/figures/fileoutpart29.png\n",
      "   (31/45) /var/folders/ny/x98qxh1124dbtz5g3f6s09hh0000gn/T/tmpi_p_wchr/figures/fileoutpart11.png\n",
      "skipping /var/folders/ny/x98qxh1124dbtz5g3f6s09hh0000gn/T/tmpi_p_wchr/figures/fileoutpart11.png\n",
      "   (32/45) /var/folders/ny/x98qxh1124dbtz5g3f6s09hh0000gn/T/tmpi_p_wchr/figures/fileoutpart39.png\n",
      "skipping /var/folders/ny/x98qxh1124dbtz5g3f6s09hh0000gn/T/tmpi_p_wchr/figures/fileoutpart39.png\n",
      "   (33/45) /var/folders/ny/x98qxh1124dbtz5g3f6s09hh0000gn/T/tmpi_p_wchr/figures/fileoutpart38.png\n",
      "skipping /var/folders/ny/x98qxh1124dbtz5g3f6s09hh0000gn/T/tmpi_p_wchr/figures/fileoutpart38.png\n",
      "   (34/45) /var/folders/ny/x98qxh1124dbtz5g3f6s09hh0000gn/T/tmpi_p_wchr/figures/fileoutpart10.png\n",
      "   (35/45) /var/folders/ny/x98qxh1124dbtz5g3f6s09hh0000gn/T/tmpi_p_wchr/figures/fileoutpart12.png\n",
      "skipping /var/folders/ny/x98qxh1124dbtz5g3f6s09hh0000gn/T/tmpi_p_wchr/figures/fileoutpart12.png\n",
      "   (36/45) /var/folders/ny/x98qxh1124dbtz5g3f6s09hh0000gn/T/tmpi_p_wchr/figures/fileoutpart13.png\n",
      "skipping /var/folders/ny/x98qxh1124dbtz5g3f6s09hh0000gn/T/tmpi_p_wchr/figures/fileoutpart13.png\n",
      "   (37/45) /var/folders/ny/x98qxh1124dbtz5g3f6s09hh0000gn/T/tmpi_p_wchr/figures/fileoutpart7.png\n",
      "   (38/45) /var/folders/ny/x98qxh1124dbtz5g3f6s09hh0000gn/T/tmpi_p_wchr/figures/fileoutpart48.png\n",
      "skipping /var/folders/ny/x98qxh1124dbtz5g3f6s09hh0000gn/T/tmpi_p_wchr/figures/fileoutpart48.png\n",
      "   (39/45) /var/folders/ny/x98qxh1124dbtz5g3f6s09hh0000gn/T/tmpi_p_wchr/figures/fileoutpart6.png\n",
      "skipping /var/folders/ny/x98qxh1124dbtz5g3f6s09hh0000gn/T/tmpi_p_wchr/figures/fileoutpart6.png\n",
      "   (40/45) /var/folders/ny/x98qxh1124dbtz5g3f6s09hh0000gn/T/tmpi_p_wchr/figures/fileoutpart4.png\n",
      "   (41/45) /var/folders/ny/x98qxh1124dbtz5g3f6s09hh0000gn/T/tmpi_p_wchr/figures/fileoutpart5.png\n",
      "   (42/45) /var/folders/ny/x98qxh1124dbtz5g3f6s09hh0000gn/T/tmpi_p_wchr/figures/fileoutpart1.png\n",
      "   (43/45) /var/folders/ny/x98qxh1124dbtz5g3f6s09hh0000gn/T/tmpi_p_wchr/figures/fileoutpart0.png\n",
      "   (44/45) /var/folders/ny/x98qxh1124dbtz5g3f6s09hh0000gn/T/tmpi_p_wchr/figures/fileoutpart2.png\n",
      "   (45/45) /var/folders/ny/x98qxh1124dbtz5g3f6s09hh0000gn/T/tmpi_p_wchr/figures/fileoutpart3.png\n",
      "uploading adobe_extracted_directory to google cloud\n"
     ]
    }
   ],
   "source": [
    "from dotenv import load_dotenv\n",
    "\n",
    "load_dotenv(override=True)\n",
    "info = preprocess_document(venue, venue_metadata)"
   ]
  },
  {
   "cell_type": "code",
   "execution_count": 9,
   "metadata": {},
   "outputs": [
    {
     "name": "stdout",
     "output_type": "stream",
     "text": [
      "Processed document: The Los Angeles Arboretum\n"
     ]
    }
   ],
   "source": [
    "add_documents_to_retriever({venue: info}, retriever, venue_metadata)\n",
    "retriever.vectorstore.save_local(PERSIST_DIRECTORY)"
   ]
  },
  {
   "cell_type": "code",
   "execution_count": 10,
   "metadata": {},
   "outputs": [
    {
     "data": {
      "text/plain": [
       "{'73eb21c3-ac1e-4d1a-9815-a15aa5f2b7db': Document(metadata={'company': 'dummy', 'type': 'text'}, page_content='dummy document'),\n",
       " '79c19657-f554-45b2-a646-028e3595c6ce': Document(metadata={'content_id': '99235b9f-76c4-4369-8655-1a304c778067_text', 'doc_id': '99235b9f-76c4-4369-8655-1a304c778067', 'company': 'The Los Angeles Arboretum', 'type': 'text', 'website': 'https://arboretum.org/rentals/weddings/', 'address': nan, 'phone': nan}, page_content='THE LOS ANGELES COUNTY ARBORETEUM \\nLOCATIONS \\nThe Los Angeles County Arboretum & Botanic Garden provides naturally beautiful settings for wedding ceremonies and receptions from Mid March through November.With over 120 acres of property, there are multiple options for indoor and outdoor ceremony & reception combinations to make your wedding experience special. \\nCeremony & reception combinations Starting Prices \\nCeremonies available from \\n5:00 p.m. – 7:00 p.m. (Set up 3 p.m. -5 p.m.) \\nReceptions Available from 5:30 p.m. - 10:00PM \\n(Take Down from 10:00PM - 11:00PM) \\nLOCATIONS PACKAGE PRICE $5480 \\n(a Non-Refundable 20% Reservation Fee is required upon booking locations) \\nA nonrefundable reservation fee of 20% of the site rental fee and completion of the Application and Permit for Use of Regional Parks is required to secure reservations. \\nIncluded in Fees \\nDetailed meetings with the Special Events Office \\n1-hour rehearsal at ceremony site \\nPhotography Permit on the day of the event \\nCombination of ceremony and reception locations \\nTwo event monitors for 8 hours. Each equipped with a passenger golf cart \\nCAPACITIES FOR WEDDING SITES \\n[{\"Waterfall \": \"Queen Anne Lawn \", \"200+ guests \": \"200+ guests \"}, {\"Waterfall \": \"Bauer Lawn \", \"200+ guests \": \"200+ guests \"}, {\"Waterfall \": \"Event Lawn \", \"200+ guests \": \"200+ guests \"}]\\n[{\"Rose Garden \": \"Celebration Garden \", \"150 guests \": \"150 guests \"}, {\"Rose Garden \": \"Ayres Hall \", \"150 guests \": \"300 guests \"}, {\"Rose Garden \": \"The Peacock Caf\\\\u00e9 \", \"150 guests \": \"120 guests \"}]\\nLets setup a time to answer your questions and book your wedding \\nLocation Booking \\nLos Angeles County Arboretum & Botanic Garden Special Events Office 301 North Baldwin Avenue, Arcadia, CA 91007 \\nCatering Dept. Phone: 626.446.2248 \\nEvent Sales Email: events@thefreshgourmet.com \\nTHE PLUMERIA PACKAGE \\nBuffet $180 | Served $195 (Excludes taxes and all fees) \\nCEREMONY SPA BEVERAGE STATION \\nIncluded in our services is an iced spa water beverage station at the ceremony site \\nSPECIAL EVENT LEAD \\nIncluded in your package is an Event Lead that will synchronize with the Arboretum Monitors and your coordination team. They will be at your wedding rehearsal and will be on the grounds of the Arboretum to assist in your wedding from beginning to end. \\nINCLUDED IN YOUR PACKAGE \\nAll the choices listed in your package \\nChair rentals for your ceremony site \\nSpecial Event Lead \\nPlace settings, Linen and Glassware (some locations due require additional rentals) \\nPhone consultation with one of our culinary specialists to help you choose your wedding menu \\nCOCKTAIL HOUR \\nCharcuterie Display \\nAssorted Domestic & Imported Cheeses & Meats displayed with gourmet crackers & bread \\nSALAD \\n(Select one, rolls and butter included) \\nTraditional Caesar Salad \\nChopped Romaine with croutons, Parmesan cheese in our \\nhouse made Caesar dressing \\nHouse Dinner Salad \\nBaby greens tossed with cherry tomatoes, feta cheese, candied walnuts and balsamic vinaigrette of Ranch \\nPROTEINS \\n(Select one) \\nPan Seared Stuffed Chicken Breast \\nPan seared breast of chicken stuffed with an herbed goat cheese filling topped with an heirloom tomato basil cream sauce \\nChicken Fontina \\nChicken Breast stuffed with sautéed spinach, Fontina Cheese and sun-dried tomatoes topped with a white wine, basil and cream sauce GF \\nChicken Breast Madeira \\nSautéed chicken breast with baby Bella mushrooms, pearl onions, Madeira wine and fine herbs GF \\nFine Herb Chicken Breast \\nAirline chicken breast served with an herb au jus GF \\nThai Lemongrass Chicken \\nThai marinated chicken served with a coconut cream sauce \\nSTARCH \\n(Select one) \\nFingerling Potatoes \\nHousemade Parmesan Mashed Potatoes \\nGarlic Mashed Potatoes \\nWild Rice Pilaf \\nSteamed Rice \\nVEGETABLES \\nChef’s Selection of Seasonal Vegetables \\nHerbed Oven Roasted Carrots \\nFULLY HOSTED BEER AND WINE BAR \\nHouse Red & White Wines \\nAssorted Bottled Beers (Domestic and Imported) \\nSoft Drinks, Still & Sparkling Waters Coffee Station (during dinner) (iced water at the table) \\nTHE ORCHID PACKAGE \\nBuffet $196 | Served $215 (Excludes taxes and all fees) \\nCEREMONY SPA BEVERAGE STATION \\nIncluded in our services is an iced spa water beverage station at the ceremony site \\nSPECIAL EVENT LEAD \\nIncluded in your package is an Event Lead that will synchronize with the Arboretum Monitors and your coordination team. They will be at your wedding rehearsal and will be on the grounds of the Arboretum to assist in your wedding from beginning to end. \\nINCLUDED IN YOUR PACKAGE \\nAll the choices listed in your package \\nChair rentals for your ceremony site \\nSpecial Event Lead \\nPlacesettings, Linen and Glassware (some locations due require additional rentals) \\nPhone consultation with one of our culinary specialists to help you choose your wedding menu \\nAPPETIZERS \\n(Select two & Passed Appetizers) \\nHeirloom Tomato Bruschetta \\nSpinach & Herb Goat Cheese Pinwheels \\nChipotle Mushroom Quesadillas \\nBlack Bean & Fire Roasted Corn Quesadillas \\nPesto & Sun-dried Tomato Tortellinis \\nCrispy Arancini \\nSouthwestern Egg rolls \\nProsciutto and Goat Cheese Pinwheels \\nSALAD \\n(Select one, rolls and butter included) \\nNapa Salad \\nBaby greens tossed with dried apricots, feta cheese, candied pecans, shaved red onions and balsamic \\nvinaigrette \\nTraditional Caesar Salad \\nChopped Romaine with croutons, Parmesan cheese in our house made Caesar dressing \\nHouse Dinner Salad \\nBaby greens tossed with cherry tomatoes, feta cheese, candied walnuts and balsamic vinaigrette \\nPROTEINS \\n(Select two) \\nBEEF (Choose One) \\nBoneless Braised Short Ribs \\nServed with a Merlot wine reduction \\nPeppercorn Crusted Hanger Steak \\nServed with cognac cream sauce \\nAsian Marinated Tri-Tip \\nServed with a plum wine demi \\nCHICKEN (Choose One) \\nPan Seared Stuffed Chicken Breast \\nPan seared breast of chicken stuffed with an herbed goat cheese filling topped with an heirloom tomato basil cream sauce \\nChicken Fontina \\nChicken Breast stuffed with sautéed spinach, Fontina Cheese and sun-dried tomatoes topped with a white wine, basil and cream sauce GF \\nChicken Breast Madeira \\nSautéed chicken breast with baby Bella mushrooms, pearl onions, Madeira wine and fine herbs GF \\nFine Herb Chicken Breast \\nAirline chicken breast served with an herb au jus GF \\nThai Lemongrass Chicken \\nThai marinated chicken served with a coconut cream sauce \\nSTARCH \\n(Select one) \\nFingerling Potatoes \\nHousemade Mashed Potatoes \\nHousemade Parmesan Mashed Potatoes \\nGarlic Mashed Potatoes \\nWild Rice Pilaf \\nSteamed Rice \\nVEGETABLES \\n(Select one) \\nHeirloom Carrots \\nChef’s Selection of Seasonal Vegetables \\nPetite Heirloom Vegetables \\nFULLY HOSTED CALL BAR \\nLiquor Service \\nSKYY & Smirnoff Vodka, Gordon’s Gin, Seagrams 7, \\nJack Daniels, Bacardi Rum, Cruzan, Gold Spiced Rum, \\nSauza Gold Tequila, Glen Garry Scotch, Brandy, \\nKahlua, Midori, Apple Pucker, Triple Sec, \\nAmaretto, \\nPeach Schnapps, Long Island Iced Tea \\nSoft Bar \\nHouse Red & White Wines \\nAssorted Bottled Beers (Domestic and Imported) \\nSoft Drinks, Still & Sparkling Waters \\nIced Tea, Lemonade & Coffee Station \\n(iced water at the table) \\nTHE ROSE PACKAGE \\nBuffet $216 | Served $235 (Excludes taxes and all fees) \\nCEREMONY SPA BEVERAGE STATION \\nIncluded in our services is an iced spa water beverage station at the ceremony site \\nSPECIAL EVENT LEAD \\nIncluded in your package is an Event Lead that will synchronize with the Arboretum Monitors and your coordination team. They will be at your wedding rehearsal and will be on the grounds of the Arboretum to assist in your wedding from beginning to end. \\nINCLUDED IN YOUR PACKAGE \\nAll the choices listed in your package \\nChair rentals for your ceremony site \\nSpecial Event Lead \\nPlacesettings, Linen and Glassware (some locations due require additional rentals) \\nPhone consultation and tasting to help you choose your wedding menu, complimentary wine included. \\nAPPETIZERS \\n(Select three) \\nCrispy mac & cheese bites \\nMiniature beef Wellington \\nPetite Hoisin Pork Banh mi \\nStuffed Italian mushrooms \\nRoasted vegetable flatbread \\nMiniature grilled flatbread topped with \\nseasonal roasted vegetables \\nShrimp Cocktail Shooter \\nCrispy Coconut shrimp \\nBacon Wrapped shrimp \\nHeirloom Tomato Bruschetta \\nSpinach & Herb Goat Cheese Pinwheels \\nChipotle Mushroom Quesadillas \\nBlack Bean & Fire Roasted Corn Quesadillas \\nPesto & Sun-dried Tomato Tortellinis \\nCrispy Arancini \\nSouthwestern Eggrolls \\nProsciutto and Goat Cheese Pinwheels \\nSALAD \\n(Select one, rolls and butter included) \\nQueen Anne Dinner Salad \\nMixed greens, tart cherries, goat cheese crumbles and sugared walnuts tossed in white balsamic \\nNapa Salad \\nBaby greens tossed with dried apricots, feta cheese, candied pecans, shaved red onions and balsamic vinaigrette \\nTraditional Caesar Salad \\nChopped Romaine with croutons, Parmesan cheese in our house made Caesar dressing \\nHouse Dinner Salad \\nBaby greens tossed with cherry tomatoes, feta cheese, candied walnuts and balsamic vinaigrette \\nPROTEINS \\n(Select two & proteins total) \\nFISH \\nFilet of Salmon \\nPan seared filet served with a dill cream sauce \\nFilet of Mahi Mahi \\nPan seared filet served with a garlic lemon pan sauce \\nFilet of Whitefish \\nFilet of barramundi served with a lemon cream sauce \\nBEEF \\nBoneless Braised Short Ribs \\nServed with a Merlot wine reduction \\nPeppercorn Crusted Flat Iron Steak \\nServed with cognac cream sauce \\nAsian Marinated Tri-Tip \\nServed with a plum wine demi \\nCHICKEN \\nPan Seared Stuffed Chicken Breast \\nPan seared breast of chicken stuffed with an herbed goat cheese filling topped with an heirloom tomato basil cream sauce \\nChicken Fontina \\nChicken Breast stuffed with sautéed spinach, Fontina Cheese and sun-dried tomatoes topped with a white wine, basil and cream sauce GF \\nChicken Breast Madeira \\nSautéed chicken breast with baby Bella mushrooms, pearl onions, Madeira wine and fine herbs GF \\nFine Herb Chicken Breast \\nAirline chicken breast served with an herb au jus GF \\nThai Lemongrass Chicken \\nThai marinated chicken served with a coconut cream sauce \\nBeef Filet Medallions \\nServed with a mushroom Demi-glacé \\nSTARCH \\n(Select one) \\nFingerling Potatoes \\nHomemade Mashed Potatoes \\nHomemade Parmesan Mashed Potatoes \\nGarlic Mashed Potatoes \\nWild Rice Pilaf \\nVEGETABLES \\n(Select one) \\nBroccolini \\nAsparagus \\nHeirloom Carrots \\nTri Color Carrots \\nGOLD BAR \\nLiquor Service \\nTito’s & Kettle One Vodka, Tanqueray Gin, \\nChivas Regal Scotch, Crown Royal, Jack \\nDaniels, Bacardi Rum, Malibu Rum, \\nCaptain Morgan Rum, Patron Silver, \\nHennessey Cognac, Jameson Irish Whisky, \\nKahlua, Midori, Apple Pucker, Triple Sec, \\nAmaretto, Peach Schnapps, Long Island \\nIced Tea \\n(Some Limitations Apply Depending on Stock) Soft Bar \\nHouse Red & White Wines \\nAssorted Bottled Beers (Domestic and Imported) \\nSoft Drinks, Still & Sparkling Waters \\nIced Tea, Lemonade & Coffee Station \\n(iced water at the table) '),\n",
       " '9492461a-96c8-4716-a918-fb3ad974ab61': Document(metadata={'content_id': '99235b9f-76c4-4369-8655-1a304c778067_image_0', 'doc_id': '99235b9f-76c4-4369-8655-1a304c778067', 'company': 'The Los Angeles Arboretum', 'type': 'image', 'image_path': 'The Los Angeles Arboretum/fileoutpart42.png', 'website': 'https://arboretum.org/rentals/weddings/', 'address': nan, 'phone': nan}, page_content='A server presents a plate of golden-brown empanadas garnished with greens, accompanied by a side of tomato-based dipping sauce.'),\n",
       " 'c3a18243-39fd-47a1-9650-d8e424e50118': Document(metadata={'content_id': '99235b9f-76c4-4369-8655-1a304c778067_image_1', 'doc_id': '99235b9f-76c4-4369-8655-1a304c778067', 'company': 'The Los Angeles Arboretum', 'type': 'image', 'image_path': 'The Los Angeles Arboretum/fileoutpart8.png', 'website': 'https://arboretum.org/rentals/weddings/', 'address': nan, 'phone': nan}, page_content='A gourmet dish featuring braised meat with asparagus, mashed potatoes, and a rich sauce, garnished with microgreens on a white plate.'),\n",
       " 'c0fa97fb-2324-445f-b4a1-c03d6d9e94aa': Document(metadata={'content_id': '99235b9f-76c4-4369-8655-1a304c778067_image_2', 'doc_id': '99235b9f-76c4-4369-8655-1a304c778067', 'company': 'The Los Angeles Arboretum', 'type': 'image', 'image_path': 'The Los Angeles Arboretum/fileoutpart9.png', 'website': 'https://arboretum.org/rentals/weddings/', 'address': nan, 'phone': nan}, page_content='Elegant table setting with soft pink napkins, silverware, decorative box, and floral elements, conveying a sophisticated dining atmosphere.'),\n",
       " 'd255b8d9-c9f8-455d-a75f-5b7c8b238000': Document(metadata={'content_id': '99235b9f-76c4-4369-8655-1a304c778067_image_3', 'doc_id': '99235b9f-76c4-4369-8655-1a304c778067', 'company': 'The Los Angeles Arboretum', 'type': 'image', 'image_path': 'The Los Angeles Arboretum/fileoutpart36.png', 'website': 'https://arboretum.org/rentals/weddings/', 'address': nan, 'phone': nan}, page_content='Gourmet dish featuring a succulent beef cut atop a bed of creamy mashed potatoes and green beans, garnished with colorful edible flowers and herbs.'),\n",
       " '7e0e85cf-8a56-4641-8a86-0ccdc968b1ed': Document(metadata={'content_id': '99235b9f-76c4-4369-8655-1a304c778067_image_4', 'doc_id': '99235b9f-76c4-4369-8655-1a304c778067', 'company': 'The Los Angeles Arboretum', 'type': 'image', 'image_path': 'The Los Angeles Arboretum/fileoutpart24.png', 'website': 'https://arboretum.org/rentals/weddings/', 'address': nan, 'phone': nan}, page_content='Map of The Arboretum showcasing various attractions: Event Lawn, Celebration Garden, Waterfall, Rose Garden, Queen Anne Cottage, Peacock Café, Ay'),\n",
       " 'cc0c6b8c-a1d7-41fa-bbe6-0226a574aad7': Document(metadata={'content_id': '99235b9f-76c4-4369-8655-1a304c778067_image_5', 'doc_id': '99235b9f-76c4-4369-8655-1a304c778067', 'company': 'The Los Angeles Arboretum', 'type': 'image', 'image_path': 'The Los Angeles Arboretum/fileoutpart26.png', 'website': 'https://arboretum.org/rentals/weddings/', 'address': nan, 'phone': nan}, page_content='A rustic picnic display featuring an assortment of cheeses, grapes, and meats, surrounded by greenery and a wine bottle, evokes a fresh and inviting outdoor dining'),\n",
       " '3a9e8096-9f0d-4e32-bc1f-a39122953202': Document(metadata={'content_id': '99235b9f-76c4-4369-8655-1a304c778067_image_6', 'doc_id': '99235b9f-76c4-4369-8655-1a304c778067', 'company': 'The Los Angeles Arboretum', 'type': 'image', 'image_path': 'The Los Angeles Arboretum/fileoutpart10.png', 'website': 'https://arboretum.org/rentals/weddings/', 'address': nan, 'phone': nan}, page_content='A couple stands under a floral arch in a garden setting, celebrating an outdoor wedding.'),\n",
       " '80b7f490-0e46-46ed-9fbd-6f3b64a7a2bc': Document(metadata={'content_id': '99235b9f-76c4-4369-8655-1a304c778067_image_7', 'doc_id': '99235b9f-76c4-4369-8655-1a304c778067', 'company': 'The Los Angeles Arboretum', 'type': 'image', 'image_path': 'The Los Angeles Arboretum/fileoutpart7.png', 'website': 'https://arboretum.org/rentals/weddings/', 'address': nan, 'phone': nan}, page_content='A wedding party poses outdoors, featuring bridesmaids in pink dresses and groomsmen in gray suits, creating a joyful and elegant atmosphere.'),\n",
       " 'f0cffe54-00d8-47f4-9fa8-f96b598b2577': Document(metadata={'content_id': '99235b9f-76c4-4369-8655-1a304c778067_image_8', 'doc_id': '99235b9f-76c4-4369-8655-1a304c778067', 'company': 'The Los Angeles Arboretum', 'type': 'image', 'image_path': 'The Los Angeles Arboretum/fileoutpart4.png', 'website': 'https://arboretum.org/rentals/weddings/', 'address': nan, 'phone': nan}, page_content='A couple in wedding attire participates in a traditional lion dance ceremony, surrounded by festive decorations and performers.'),\n",
       " '090d81ef-ca91-4845-a07c-a12de7c54294': Document(metadata={'content_id': '99235b9f-76c4-4369-8655-1a304c778067_image_9', 'doc_id': '99235b9f-76c4-4369-8655-1a304c778067', 'company': 'The Los Angeles Arboretum', 'type': 'image', 'image_path': 'The Los Angeles Arboretum/fileoutpart5.png', 'website': 'https://arboretum.org/rentals/weddings/', 'address': nan, 'phone': nan}, page_content='A joyful couple embraces at a scenic waterfall backdrop, celebrating a special occasion with a bouquet of flowers.'),\n",
       " 'a6f72791-fbf5-45b7-b46b-28a1c328eda6': Document(metadata={'content_id': '99235b9f-76c4-4369-8655-1a304c778067_image_10', 'doc_id': '99235b9f-76c4-4369-8655-1a304c778067', 'company': 'The Los Angeles Arboretum', 'type': 'image', 'image_path': 'The Los Angeles Arboretum/fileoutpart1.png', 'website': 'https://arboretum.org/rentals/weddings/', 'address': nan, 'phone': nan}, page_content='A beautifully arranged charcuterie table with assorted cheeses, fruits, and greenery, set in a bright, outdoor setting, featuring rustic decor.'),\n",
       " '00322933-44f4-46f6-b1d8-f67e24859fbb': Document(metadata={'content_id': '99235b9f-76c4-4369-8655-1a304c778067_image_11', 'doc_id': '99235b9f-76c4-4369-8655-1a304c778067', 'company': 'The Los Angeles Arboretum', 'type': 'image', 'image_path': 'The Los Angeles Arboretum/fileoutpart0.png', 'website': 'https://arboretum.org/rentals/weddings/', 'address': nan, 'phone': nan}, page_content='A joyful couple walks down an outdoor aisle, hand in hand, amidst seated guests.'),\n",
       " 'e413a7c3-716c-4528-a420-5ed33ac5d053': Document(metadata={'content_id': '99235b9f-76c4-4369-8655-1a304c778067_image_12', 'doc_id': '99235b9f-76c4-4369-8655-1a304c778067', 'company': 'The Los Angeles Arboretum', 'type': 'image', 'image_path': 'The Los Angeles Arboretum/fileoutpart2.png', 'website': 'https://arboretum.org/rentals/weddings/', 'address': nan, 'phone': nan}, page_content='An ornate chandelier with intricate crystal detailing is elegantly illuminated, casting a warm glow in a stylish, modern interior space with wood and concrete elements.'),\n",
       " '1024057e-7b2c-40c5-a2c1-6d7814e04b6f': Document(metadata={'content_id': '99235b9f-76c4-4369-8655-1a304c778067_image_13', 'doc_id': '99235b9f-76c4-4369-8655-1a304c778067', 'company': 'The Los Angeles Arboretum', 'type': 'image', 'image_path': 'The Los Angeles Arboretum/fileoutpart3.png', 'website': 'https://arboretum.org/rentals/weddings/', 'address': nan, 'phone': nan}, page_content='A nighttime outdoor social gathering with people conversing, featuring a table set with bottles and glasses.')}"
      ]
     },
     "execution_count": 10,
     "metadata": {},
     "output_type": "execute_result"
    }
   ],
   "source": [
    "retriever.vectorstore.docstore._dict"
   ]
  },
  {
   "cell_type": "code",
   "execution_count": null,
   "metadata": {},
   "outputs": [],
   "source": []
  }
 ],
 "metadata": {
  "kernelspec": {
   "display_name": "wedding",
   "language": "python",
   "name": "python3"
  },
  "language_info": {
   "codemirror_mode": {
    "name": "ipython",
    "version": 3
   },
   "file_extension": ".py",
   "mimetype": "text/x-python",
   "name": "python",
   "nbconvert_exporter": "python",
   "pygments_lexer": "ipython3",
   "version": "3.11.10"
  }
 },
 "nbformat": 4,
 "nbformat_minor": 2
}
