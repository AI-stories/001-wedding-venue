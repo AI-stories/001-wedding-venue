{
 "cells": [
  {
   "cell_type": "code",
   "execution_count": 10,
   "metadata": {},
   "outputs": [
    {
     "name": "stdout",
     "output_type": "stream",
     "text": [
      "Fetching database from the cloud...\n",
      "Downloaded 2 files from '<Blob: wedding-venues-001, faiss_db, None>' to /Users/lanchu/Documents/projects/001-wedding-venue/noteboobs/faiss_db\n",
      "Loaded FAISS index from /Users/lanchu/Documents/projects/001-wedding-venue/noteboobs/faiss_db\n",
      "stored venues:  272\n",
      "unprocessed venues:  9\n"
     ]
    }
   ],
   "source": [
    "import io\n",
    "import sys\n",
    "\n",
    "from google.cloud import storage\n",
    "\n",
    "sys.path.append(\"..\")\n",
    "import os\n",
    "from pathlib import Path\n",
    "\n",
    "from dotenv import load_dotenv\n",
    "\n",
    "from function.cloud import list_files\n",
    "from function.retriever import initialize_retriever\n",
    "\n",
    "retriever = initialize_retriever()\n",
    "\n",
    "metadatas = [entry.metadata for entry in retriever.vectorstore.docstore._dict.values()]\n",
    "all_stored_venues = set(_[\"company\"] for _ in metadatas)\n",
    "print(\"stored venues: \", len(all_stored_venues))\n",
    "all_venues = set([Path(path).stem for path in list_files(filter=r\"venues/\")])\n",
    "\n",
    "unprocessed_venues = all_venues - all_stored_venues\n",
    "venue = list(unprocessed_venues)\n",
    "print(\"unprocessed venues: \", len(venue))"
   ]
  },
  {
   "cell_type": "code",
   "execution_count": 6,
   "metadata": {},
   "outputs": [
    {
     "data": {
      "text/plain": [
       "{'Avenue of the Arts',\n",
       " 'Flying Flags Resort',\n",
       " 'La Jolla Beach & Tennis Club',\n",
       " 'Las Casuelas Nuevas',\n",
       " 'Muckenthaler Mansion',\n",
       " 'Pala Mesa Resort',\n",
       " 'Park Club Costa Mesa',\n",
       " 'The Grand Long Beach',\n",
       " 'Vibiana'}"
      ]
     },
     "execution_count": 6,
     "metadata": {},
     "output_type": "execute_result"
    }
   ],
   "source": [
    "unprocessed_venues"
   ]
  },
  {
   "cell_type": "code",
   "execution_count": 7,
   "metadata": {},
   "outputs": [
    {
     "data": {
      "text/plain": [
       "True"
      ]
     },
     "execution_count": 7,
     "metadata": {},
     "output_type": "execute_result"
    }
   ],
   "source": [
    "load_dotenv(override=True)"
   ]
  },
  {
   "cell_type": "code",
   "execution_count": 9,
   "metadata": {},
   "outputs": [
    {
     "name": "stdout",
     "output_type": "stream",
     "text": [
      "Fetching database from the cloud...\n",
      "Downloaded 2 files from '<Blob: wedding-venues-001, faiss_db, None>' to /Users/lanchu/Documents/projects/001-wedding-venue/noteboobs/faiss_db\n",
      "Loaded FAISS index from /Users/lanchu/Documents/projects/001-wedding-venue/noteboobs/faiss_db\n",
      "Fetching database from the cloud...\n",
      "Loaded FAISS index from /Users/lanchu/Documents/projects/001-wedding-venue/noteboobs/faiss_db\n",
      "searching for Pala Mesa Resort.pdf on Google Cloud...\n",
      "downloading Pala Mesa Resort.pdf from Google Cloud...\n",
      "sending Pala Mesa Resort.pdf to Adobe...\n",
      "error with Adobe operation: description =Request could not be completed. Possible cause attached!, requestTrackingId=(<class 'requests.exceptions.ConnectionError'>, ConnectionError(ProtocolError('Connection aborted.', TimeoutError('The write operation timed out'))), <traceback object at 0x31330ba00>)\n",
      "Fetching database from the cloud...\n",
      "Loaded FAISS index from /Users/lanchu/Documents/projects/001-wedding-venue/noteboobs/faiss_db\n",
      "searching for La Jolla Beach & Tennis Club.pdf on Google Cloud...\n",
      "downloading La Jolla Beach & Tennis Club.pdf from Google Cloud...\n",
      "sending La Jolla Beach & Tennis Club.pdf to Adobe...\n",
      "error with Adobe operation: description =ERROR - Unable to extract content. Internal error: Processing timeout; requestTrackingId=2b516624-8c55-48ff-a7f1-6b56c0d84bae; statusCode=500; errorCode=TIMEOUT\n",
      "uploading retriever to cloud\n"
     ]
    }
   ],
   "source": [
    "import sys\n",
    "\n",
    "sys.path.append(\"..\")\n",
    "\n",
    "from function.retriever import load_venue_metadata, preprocess_documents\n",
    "\n",
    "venue_metadata = load_venue_metadata()\n",
    "info = preprocess_documents(\n",
    "    [\"Pala Mesa Resort\", \"La Jolla Beach & Tennis Club\"], venue_metadata\n",
    ")\n",
    "# PERSIST_DIRECTORY: str = os.getenv(\"DATABASE_DIR\")\n",
    "\n",
    "# add_documents_to_retriever(info, retriever, venue_metadata)\n",
    "# retriever.vectorstore.save_local(PERSIST_DIRECTORY)"
   ]
  },
  {
   "cell_type": "code",
   "execution_count": 6,
   "metadata": {},
   "outputs": [
    {
     "name": "stdout",
     "output_type": "stream",
     "text": [
      "Fetching database from the cloud...\n",
      "Downloaded 2 files from '<Blob: wedding-venues-001, faiss_db, None>' to /Users/lanchu/Documents/projects/001-wedding-venue/noteboobs/faiss_db\n",
      "Loaded FAISS index from /Users/lanchu/Documents/projects/001-wedding-venue/noteboobs/faiss_db\n"
     ]
    },
    {
     "data": {
      "text/plain": [
       "96"
      ]
     },
     "execution_count": 6,
     "metadata": {},
     "output_type": "execute_result"
    }
   ],
   "source": [
    "from function.retriever import initialize_retriever\n",
    "\n",
    "retriever = initialize_retriever()\n",
    "texts = [\n",
    "    doc.metadata[\"company\"]\n",
    "    for doc in filter(\n",
    "        lambda doc: doc.metadata[\"type\"] == \"text\",\n",
    "        retriever.vectorstore.docstore._dict.values(),\n",
    "    )\n",
    "]\n",
    "len(texts)\n",
    "\n",
    "# for doc in retriever.vectorstore.docstore._dict.values():\n",
    "#     print(doc.metadata[\"company\"], doc.metadata[\"type\"], doc.metadata.get(\"image_path\"))"
   ]
  },
  {
   "cell_type": "code",
   "execution_count": 9,
   "metadata": {},
   "outputs": [],
   "source": [
    "from langchain_community.vectorstores import FAISS\n",
    "from langchain_openai import OpenAIEmbeddings\n",
    "\n",
    "from function.secrets import secrets\n",
    "\n",
    "embedding_model = OpenAIEmbeddings(\n",
    "    model=\"text-embedding-3-large\",\n",
    "    api_key=secrets.OPENAI_API_KEY.get_secret_value(),\n",
    ")\n",
    "# if not os.path.exists(PERSIST_DIRECTORY):\n",
    "# print(\"Fetching database from the cloud...\")\n",
    "# download_faiss_from_cloud(bucket.blob(\"faiss_db\"), PERSIST_DIRECTORY)\n",
    "# Try to load\n",
    "\n",
    "vectorstore = FAISS.load_local(\n",
    "    \"faiss_db\", embedding_model, allow_dangerous_deserialization=True\n",
    ")"
   ]
  },
  {
   "cell_type": "code",
   "execution_count": 10,
   "metadata": {},
   "outputs": [
    {
     "data": {
      "text/plain": [
       "{'e1423160-d77f-4b92-a60b-71c997fcd402': Document(metadata={'company': 'dummy', 'type': 'text'}, page_content='dummy document')}"
      ]
     },
     "execution_count": 10,
     "metadata": {},
     "output_type": "execute_result"
    }
   ],
   "source": [
    "PERSIST_DIRECTORY = \"notebooks/faiss_db\"\n",
    "from langchain_community.vectorstores import FAISS\n",
    "from langchain_openai import OpenAIEmbeddings\n",
    "\n",
    "embedding_model = OpenAIEmbeddings(\n",
    "    model=\"text-embedding-3-large\",\n",
    "    api_key=os.getenv(\"OPENAI_API_KEY\"),\n",
    ")\n",
    "vectorstore = FAISS.load_local(\n",
    "    PERSIST_DIRECTORY, embedding_model, allow_dangerous_deserialization=True\n",
    ")\n",
    "vectorstore.docstore._dict"
   ]
  }
 ],
 "metadata": {
  "kernelspec": {
   "display_name": "wedding",
   "language": "python",
   "name": "python3"
  },
  "language_info": {
   "codemirror_mode": {
    "name": "ipython",
    "version": 3
   },
   "file_extension": ".py",
   "mimetype": "text/x-python",
   "name": "python",
   "nbconvert_exporter": "python",
   "pygments_lexer": "ipython3",
   "version": "3.11.10"
  }
 },
 "nbformat": 4,
 "nbformat_minor": 2
}
