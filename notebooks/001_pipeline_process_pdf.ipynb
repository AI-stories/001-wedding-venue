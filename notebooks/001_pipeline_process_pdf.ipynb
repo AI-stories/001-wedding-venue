{
 "cells": [
  {
   "cell_type": "code",
   "execution_count": 38,
   "metadata": {},
   "outputs": [
    {
     "name": "stdout",
     "output_type": "stream",
     "text": [
      "Loaded existing FAISS index from faiss_db\n"
     ]
    },
    {
     "data": {
      "text/plain": [
       "{'dummy'}"
      ]
     },
     "execution_count": 38,
     "metadata": {},
     "output_type": "execute_result"
    }
   ],
   "source": [
    "import io\n",
    "import sys\n",
    "\n",
    "from google.cloud import storage\n",
    "\n",
    "sys.path.append(\"..\")\n",
    "from function.retriever import initialize_retriever\n",
    "\n",
    "retriever = initialize_retriever()\n",
    "\n",
    "metadatas = [entry.metadata for entry in retriever.vectorstore.docstore._dict.values()]\n",
    "all_stored_venues = set(_[\"company\"] for _ in metadatas)\n",
    "all_stored_venues"
   ]
  },
  {
   "cell_type": "code",
   "execution_count": 2,
   "metadata": {},
   "outputs": [
    {
     "data": {
      "text/plain": [
       "['The Thursday Club',\n",
       " 'Santa Maria Country Club',\n",
       " 'The Peninsula Beverly Hills',\n",
       " 'Horton Grand Hotel',\n",
       " 'Marina Del Rey Hotel',\n",
       " 'The Crossings at Carlsbad',\n",
       " 'The Gardens at Peacock Farms',\n",
       " 'L_Auberge del mar',\n",
       " 'Los Angeles Athletic Club']"
      ]
     },
     "execution_count": 2,
     "metadata": {},
     "output_type": "execute_result"
    }
   ],
   "source": [
    "from pathlib import Path\n",
    "\n",
    "from function.cloud import list_files\n",
    "\n",
    "all_venues = set([Path(path).stem for path in list_files(filter=r\"venues/\")])\n",
    "\n",
    "unprocessed_venues = all_venues - all_stored_venues\n",
    "venue = list(unprocessed_venues)[1:10]\n",
    "venue\n"
   ]
  },
  {
   "cell_type": "code",
   "execution_count": 39,
   "metadata": {},
   "outputs": [],
   "source": [
    "import os\n",
    "\n",
    "from dotenv import load_dotenv\n",
    "\n",
    "from function.retriever import (\n",
    "    add_documents_to_retriever,\n",
    "    load_venue_metadata,\n",
    "    preprocess_document,\n",
    "    preprocess_documents,\n",
    ")"
   ]
  },
  {
   "cell_type": "code",
   "execution_count": 9,
   "metadata": {},
   "outputs": [
    {
     "name": "stdout",
     "output_type": "stream",
     "text": [
      "searching for The Thursday Club.pdf on google cloud...\n",
      "downloading The Thursday Club.pdf from google cloud...\n",
      "sending The Thursday Club.pdf to Adobe...\n",
      "extracting text from pdf...\n",
      "2024-12-22 11:45:24 unzip file\n",
      "2024-12-22 11:45:24 open json file\n",
      "2024-12-22 11:45:24 extract text\n",
      "generating image descriptions for The Thursday Club.pdf\n",
      "Generating image descriptions...\n",
      "   (1/37) /var/folders/ny/x98qxh1124dbtz5g3f6s09hh0000gn/T/tmp3fkue2a2/figures/fileoutpart8.png\n",
      "skipping /var/folders/ny/x98qxh1124dbtz5g3f6s09hh0000gn/T/tmp3fkue2a2/figures/fileoutpart8.png\n",
      "   (2/37) /var/folders/ny/x98qxh1124dbtz5g3f6s09hh0000gn/T/tmp3fkue2a2/figures/fileoutpart9.png\n",
      "skipping /var/folders/ny/x98qxh1124dbtz5g3f6s09hh0000gn/T/tmp3fkue2a2/figures/fileoutpart9.png\n",
      "   (3/37) /var/folders/ny/x98qxh1124dbtz5g3f6s09hh0000gn/T/tmp3fkue2a2/figures/fileoutpart22.png\n",
      "   (4/37) /var/folders/ny/x98qxh1124dbtz5g3f6s09hh0000gn/T/tmp3fkue2a2/figures/fileoutpart36.png\n",
      "skipping /var/folders/ny/x98qxh1124dbtz5g3f6s09hh0000gn/T/tmp3fkue2a2/figures/fileoutpart36.png\n",
      "   (5/37) /var/folders/ny/x98qxh1124dbtz5g3f6s09hh0000gn/T/tmp3fkue2a2/figures/fileoutpart23.png\n",
      "   (6/37) /var/folders/ny/x98qxh1124dbtz5g3f6s09hh0000gn/T/tmp3fkue2a2/figures/fileoutpart35.png\n",
      "   (7/37) /var/folders/ny/x98qxh1124dbtz5g3f6s09hh0000gn/T/tmp3fkue2a2/figures/fileoutpart21.png\n",
      "   (8/37) /var/folders/ny/x98qxh1124dbtz5g3f6s09hh0000gn/T/tmp3fkue2a2/figures/fileoutpart20.png\n",
      "   (9/37) /var/folders/ny/x98qxh1124dbtz5g3f6s09hh0000gn/T/tmp3fkue2a2/figures/fileoutpart34.png\n",
      "   (10/37) /var/folders/ny/x98qxh1124dbtz5g3f6s09hh0000gn/T/tmp3fkue2a2/figures/fileoutpart30.png\n",
      "skipping /var/folders/ny/x98qxh1124dbtz5g3f6s09hh0000gn/T/tmp3fkue2a2/figures/fileoutpart30.png\n",
      "   (11/37) /var/folders/ny/x98qxh1124dbtz5g3f6s09hh0000gn/T/tmp3fkue2a2/figures/fileoutpart24.png\n",
      "   (12/37) /var/folders/ny/x98qxh1124dbtz5g3f6s09hh0000gn/T/tmp3fkue2a2/figures/fileoutpart18.png\n",
      "skipping /var/folders/ny/x98qxh1124dbtz5g3f6s09hh0000gn/T/tmp3fkue2a2/figures/fileoutpart18.png\n",
      "   (13/37) /var/folders/ny/x98qxh1124dbtz5g3f6s09hh0000gn/T/tmp3fkue2a2/figures/fileoutpart19.png\n",
      "   (14/37) /var/folders/ny/x98qxh1124dbtz5g3f6s09hh0000gn/T/tmp3fkue2a2/figures/fileoutpart25.png\n",
      "skipping /var/folders/ny/x98qxh1124dbtz5g3f6s09hh0000gn/T/tmp3fkue2a2/figures/fileoutpart25.png\n",
      "   (15/37) /var/folders/ny/x98qxh1124dbtz5g3f6s09hh0000gn/T/tmp3fkue2a2/figures/fileoutpart31.png\n",
      "skipping /var/folders/ny/x98qxh1124dbtz5g3f6s09hh0000gn/T/tmp3fkue2a2/figures/fileoutpart31.png\n",
      "   (16/37) /var/folders/ny/x98qxh1124dbtz5g3f6s09hh0000gn/T/tmp3fkue2a2/figures/fileoutpart27.png\n",
      "   (17/37) /var/folders/ny/x98qxh1124dbtz5g3f6s09hh0000gn/T/tmp3fkue2a2/figures/fileoutpart33.png\n",
      "   (18/37) /var/folders/ny/x98qxh1124dbtz5g3f6s09hh0000gn/T/tmp3fkue2a2/figures/fileoutpart32.png\n",
      "   (19/37) /var/folders/ny/x98qxh1124dbtz5g3f6s09hh0000gn/T/tmp3fkue2a2/figures/fileoutpart26.png\n",
      "   (20/37) /var/folders/ny/x98qxh1124dbtz5g3f6s09hh0000gn/T/tmp3fkue2a2/figures/fileoutpart17.png\n",
      "   (21/37) /var/folders/ny/x98qxh1124dbtz5g3f6s09hh0000gn/T/tmp3fkue2a2/figures/fileoutpart16.png\n",
      "skipping /var/folders/ny/x98qxh1124dbtz5g3f6s09hh0000gn/T/tmp3fkue2a2/figures/fileoutpart16.png\n",
      "   (22/37) /var/folders/ny/x98qxh1124dbtz5g3f6s09hh0000gn/T/tmp3fkue2a2/figures/fileoutpart28.png\n",
      "   (23/37) /var/folders/ny/x98qxh1124dbtz5g3f6s09hh0000gn/T/tmp3fkue2a2/figures/fileoutpart14.png\n",
      "skipping /var/folders/ny/x98qxh1124dbtz5g3f6s09hh0000gn/T/tmp3fkue2a2/figures/fileoutpart14.png\n",
      "   (24/37) /var/folders/ny/x98qxh1124dbtz5g3f6s09hh0000gn/T/tmp3fkue2a2/figures/fileoutpart15.png\n",
      "skipping /var/folders/ny/x98qxh1124dbtz5g3f6s09hh0000gn/T/tmp3fkue2a2/figures/fileoutpart15.png\n",
      "   (25/37) /var/folders/ny/x98qxh1124dbtz5g3f6s09hh0000gn/T/tmp3fkue2a2/figures/fileoutpart29.png\n",
      "   (26/37) /var/folders/ny/x98qxh1124dbtz5g3f6s09hh0000gn/T/tmp3fkue2a2/figures/fileoutpart11.png\n",
      "skipping /var/folders/ny/x98qxh1124dbtz5g3f6s09hh0000gn/T/tmp3fkue2a2/figures/fileoutpart11.png\n",
      "   (27/37) /var/folders/ny/x98qxh1124dbtz5g3f6s09hh0000gn/T/tmp3fkue2a2/figures/fileoutpart10.png\n",
      "   (28/37) /var/folders/ny/x98qxh1124dbtz5g3f6s09hh0000gn/T/tmp3fkue2a2/figures/fileoutpart12.png\n",
      "skipping /var/folders/ny/x98qxh1124dbtz5g3f6s09hh0000gn/T/tmp3fkue2a2/figures/fileoutpart12.png\n",
      "   (29/37) /var/folders/ny/x98qxh1124dbtz5g3f6s09hh0000gn/T/tmp3fkue2a2/figures/fileoutpart13.png\n",
      "skipping /var/folders/ny/x98qxh1124dbtz5g3f6s09hh0000gn/T/tmp3fkue2a2/figures/fileoutpart13.png\n",
      "   (30/37) /var/folders/ny/x98qxh1124dbtz5g3f6s09hh0000gn/T/tmp3fkue2a2/figures/fileoutpart7.png\n",
      "   (31/37) /var/folders/ny/x98qxh1124dbtz5g3f6s09hh0000gn/T/tmp3fkue2a2/figures/fileoutpart6.png\n",
      "skipping /var/folders/ny/x98qxh1124dbtz5g3f6s09hh0000gn/T/tmp3fkue2a2/figures/fileoutpart6.png\n",
      "   (32/37) /var/folders/ny/x98qxh1124dbtz5g3f6s09hh0000gn/T/tmp3fkue2a2/figures/fileoutpart4.png\n",
      "skipping /var/folders/ny/x98qxh1124dbtz5g3f6s09hh0000gn/T/tmp3fkue2a2/figures/fileoutpart4.png\n",
      "   (33/37) /var/folders/ny/x98qxh1124dbtz5g3f6s09hh0000gn/T/tmp3fkue2a2/figures/fileoutpart5.png\n",
      "skipping /var/folders/ny/x98qxh1124dbtz5g3f6s09hh0000gn/T/tmp3fkue2a2/figures/fileoutpart5.png\n",
      "   (34/37) /var/folders/ny/x98qxh1124dbtz5g3f6s09hh0000gn/T/tmp3fkue2a2/figures/fileoutpart1.png\n",
      "skipping /var/folders/ny/x98qxh1124dbtz5g3f6s09hh0000gn/T/tmp3fkue2a2/figures/fileoutpart1.png\n",
      "   (35/37) /var/folders/ny/x98qxh1124dbtz5g3f6s09hh0000gn/T/tmp3fkue2a2/figures/fileoutpart0.png\n",
      "   (36/37) /var/folders/ny/x98qxh1124dbtz5g3f6s09hh0000gn/T/tmp3fkue2a2/figures/fileoutpart2.png\n",
      "   (37/37) /var/folders/ny/x98qxh1124dbtz5g3f6s09hh0000gn/T/tmp3fkue2a2/figures/fileoutpart3.png\n",
      "skipping /var/folders/ny/x98qxh1124dbtz5g3f6s09hh0000gn/T/tmp3fkue2a2/figures/fileoutpart3.png\n",
      "uploading adobe_extracted_directory to google cloud\n"
     ]
    },
    {
     "data": {
      "text/plain": [
       "{'doc_id': 'c1eb74e6-9724-4e5e-a786-4f87f7df2d5f',\n",
       " 'text_content': 'T/r e \\nTHURSDAY CLUB Wedding Guide \\n1224 Santa Barbara Street [ San Diego, CA 92107 6 t 9 , 2 2 4 , 5 2 6 4 I m a n a g e r @ t h e t h u r s d a y c 1 u b , o r g_ www.TheThursdayClub.org \\nr 8 Hours Facility Rental \\n** 2 Hour set up • 5 Hour Event • 1 Hour clean up Includes our inventory of tables and chairs \\nSaturday ] $6800 \\nFriday & Sunday I $5800 Monday -Thursday I $4800 \\nAdditional hours can be added to the beginning \\nWhite string market lights I $300 \\nCustom color up-lights (16 up-lights total) I $300 Full lighting package includes string lights & up-lights I $500 \\nr1 50% of the rental fee & a $1000 security deposit are collected when the reservation is made. The balance of the rental fee is collected 90 days before the event. The security deposit is a refundable ■ deposit to cover damagesital honor l«tel@l timd \\nupdated 10-17-24 \\nHours of Use \\nThe Thursday Club is located in the beautiful Sunset Cliffs neighborhood of Point Loma, San Diego. Your eight hour rental can start as early as 9am and all events must end by 9pm with guests 1eparted by 9:30pm. Setup and cleanup are included in the rental. time. \\nspace for a dance floor. The garden ceremony area holds up to 145 white folding chairs with standing room on the west terrace \\nbalcony for 15 guests. \\nWhat\\'s Included? \\nPrivate use of entire property for your special day \\n8 hour exclusive use of garden for wedding ceremony & photos I Clubhouse for reception \\nThis time includes setup and cleanup time \\nCHAIRS \\nWhite padded resin chairs for both ceremony and clubhouse \\nTABLES \\n(25) \\n48\" round \\n(20) \\n60\" round \\n(8) \\n8ft banquet \\n(6) \\n6ft banquet \\n(1) \\n60\" half round \\'sweetheart\\' table \\n(6) \\n30\" Cocktail/Belly Bar \\n(2) \\n4ft x 2ft rectangular tables \\n**Tables do NOT include linens \\nThese licensed & insured companies have been vetted by The Thursday Club. They have delicious food, great service, and have experience with the venue. \\nContact caterer for their pricing \\nTheir price will include linens, glassware/silverware, and all staffing for the \\nfood/bev set up/management/clean up \\n*Explore company websites by clicking on the boxes below* \\nAbbey Catering \\nContact: Sales Team \\n858-777-0255 \\nwww.abbeycatering.com \\nAffordable Affairs Catering \\nContact: David Te ŁŁ er \\n619-534-3271 \\ndavid@affordableaffairscatering.com Ł \\nwww.affordableaffairscatering.com \\nBekker\\'s Catering Company \\nContact: Olga Worm \\ninfo@bekkerscatering.com \\nwww.bekkerscatering.com \\nContinental Catering \\nContact: Denise Jerm n \\n619-698-3500 \\ndenise@continentalcateringsd.com \\n«..•Ł•••• \"n.i{an.talaa.A.l.ro4Ł_. \\nCrown Point Catering \\nContact: Orsika Barabas \\nŁ \\n619-223-1211 \\nŁ \\nŁŁŁŁŁŁŁŁŁŁŁŁŁŁŁŁŁŁŁŁŁŁŁŁ ŁŁŁ \\nEl Tapatio Catering \\nContact: Car ŁŁŁŁŁ • ŁŁ nda \\n619-423-2440 \\nŁŁŁŁŁŁŁŁŁŁŁŁŁ patiocatering.cvu www.eltapatiocatering.com \\nCatering \\nFour Seasons Food Ł Catering \\nThe French Gourmet \\nzCvuuaumcuceu\\n619-994-3801 \\nchefbillyburd@gmail.com \\nwww.fourseasonsfoodscatering.com \\n858-488-1725 \\nrhirsh@thefrenchgourmet.com \\n858-638-0672 \\nannalisa@personaltouchdining.com \\nwww.personaltouchdining.com\\n] \\nTerra Hospitality Gro ŁŁ \\nTerra Catering \\nShalom Catering (offering Glat Kosher)\\nBronerscaterinSignatur\\nContact: Jan hart \\n619-993-1437 \\nTOAST Catering \\ng□Ontact:pampennam \\n619-795-9135 \\nŁ com \\nevents@sg.com \\nwww.terracatering.com \\nwww.shalomcatering.com \\nwww.brotherssce.com \\ninfo@toastcatering.com \\nwww.toastcatering.com \\nThe Wild Thyme COIMpaIy \\nContact: Ł awn Carvajal \\n858-527-0226 \\nŁŁŁŁŁŁŁŁŁŁŁŁŁŁŁŁŁŁŁŁŁŁŁŁ \\nr You may bring your own alcohol Your caterer can provide bartending services oth cans and bottles allowed I NO kegs or shot \\nr What is the capacity of The Thursday Club? \\nThe clubhouse reception space holds a maximum of 150 guests with dance floor space. The capacity for garden wedding ceremonies is 145 chairs, with standing room on the west balcony for 15. 85 chairs can fit on the stone area of the ceremony site and 60 chairs on the elevated grass area \\nIs a coordinator required? \\nYes. The Thursday Club requires all weddings to have a professional, insured wedding coordinator. Professional coordinators are experienced at running complicated events with many moving parts. Your coordinator will maintain the agenda for the rehearsal, ceremony and reception, as well as be responsible for assisting in set-up and breakdown. The coordinator is required to be the first vendor on the premises and to stay the duration of the event and vendor clean up. \\nAt the conclusion of your event, The Thursday Club venue manager will conduct a final walk through with your coordinator to assess any possible damages and/or any excessive clean\\xadup necessary. The Thursday Club can recommend severa1 great coordinators that work at the property often and can make your day THE BEST! \\nWho can cater at The Thursday Club? \\nThe Thursday Club has a list of approved caterers who all provide full service catering and are highly skilled at working at the venue. They all have current licensing and all the proper insurance. Full service catering includes all your table linens, china, flatware, glassware, as well as the staffing to set the tables, manage the food+ beverage and clean-up. All approved caterers offer buffet or a seated/plated style service. Ł \\ns a bar allowed? \\nCan guests smoke on property? \\nThe Thursday Club allows beer in cans or glass bottles (no kegs), wine, champagne and distilled spirits. All must be poured by one of the approved caterers or a licensed bar service. Distilled spirits must be served on ice or with mixers (no shots or \\'neat\\'). Alcohol stops being served at least 30 min before the end of the event. Smoking and Vaping are allowed outside the Clubhouse in the designated smoking areas, never inside. Use of marijuana in any form is prohibited. \\nAs the client, are we required to have liability insurance? If so, where do we o b t a i n i t ? \\nYes, a minimum of one million dollars per occurrence, listing The Thursday Club and The Thursday Club Foundation as additionally insured. If having alcohol at your event, you must also include a Liquor Liability insurance policy. www.theeventhelper.com and www.wedsafe.com are websites that you can obtain the required insurance. This insurance costs approximately $100 for 100 people. \\nAre my vendors required to have liability i n s u r a n c e ? \\nYes. AH of your vendors need to provide The Thursday Club with proof of liability insurance (with the exception of catering, as we have their information on file). If your vendor does not have insurance. they can purchase a day-of policy. \\nCan we hire any vendor for our wedding? \\nWith the exception of catering, you are welcome to hire any vendor. All vendors are required to have liability insurance. \\nHow is the parking at the venue? \\nParking is street parking in the neighborhood. It\\'s free and plentiful. A valet service can be hired for the convenience of your guests, but is not mandatory. \\nAre we allowed to have a wedding rehearsal? Yes. We can confirm a date/time for rehearsals 30 days prior to the wedding at a mutually agreed upon time. The one hour rehearsal in our garden is complimentary. \\nAre we allowed to use the Garden? \\nThe Garden can be used for the wedding ceremony & photos. We don\\'t allow food tables or bars in the Garden, but guests can walk around the Garden with food and drink during the reception. Loud group activity in the garden needs to end at 8:00pm. \\nAre there nice places to take photos at The Thursday Club? \\nAbsolutely!! The property has a stunning ocean view, beautiful gardens, a water fountain, succulent fountain, and several incredible trees. The picturesque Spanish style architecture makes the perfect backdrop for photos. The venue is only 1/2 mile from the ocean and the Sunset Cliffs Natural Park where you can take some incredible photos. As we are located in a residential neighborhood, no drones are allowed at any time. For safety reasons, no photos are to be taken in the middle of the streets. \\nWhere does a DJ set up? \\nThe DJ can set up on the stage, in the left corner next the the stage or in the back corner of the North Ballroom. Low level music and a microphone are allowed in the Garden for the ceremony only. All cocktail hour and reception music must be inside the clubhouse. \\nWhat time can we a r r 1 v e at The Thursday Club to set up? \\nYour vendors and your wedding parties are allowed to arrive at the start of your rental period. Renta] time includes all set-up and clean-up. Jf you feel you need extra time, additional hours can be added as needed. A typical afternoon/evening wedding ceremony & reception rental time would be 1:30pm-9:30pm, with a ceremony at 4pm. Daytime wedding would be 9am-5pm with a ceremony at 11am. \\nHow late can our event go? \\nSince the location of the The Thursday Club is in a residential neighborhood, all events must end no later than 9pm. Guests must depart by 9:30pm and vendors by 10pm. \\nDo I have to rent tables & chairs ? \\nNo. The Thursday Club INCLUDES an inventory of tables and chairs with all rentals. Onsite we have a total of 300 white, padded resin chairs. Table inventory includes: (20) 60\" round dinner tables, (25) 48\" round dinner tables, (8) 8ft rectangular tables, (6) 6ft rectangular tables, (6) 30\" belly bars/or cocktail tables, and (2) 4ft x 2ft tables. No linen are included, your catering company can provide linens for a rental fee. \\nWhere do we have our ceremony if it rains? If it rains, you can hold your ceremony inside the beautiful clubhouse. Due to space limitations. We are not able to tent our garden. \\nCan we bring our own desserts? \\nYes, you can bring and enjoy any dessert company during your event. If a vendor is delivering or setting up at the venue, they must be insured. \\nCan we leave cake, desserts or drinks over n i g h t in y our refrigerator? \\nUnfortunately no. AB desserts must be brought or delivered day-of. Nothing can be left overnight. \\nCan we have a \\'Grand Exit\\' at the end of the we d d i n g ? \\nYes! For safety reasons, your guests can line up inside the clubhouse starting in the foyer. Nothing can be thrown (rice, petals, streamers) and no sparklers allowed. Glow sticks or ribbon wands are a fun option. \\nAre decorations allowed? \\nYes, but specific rules are in place to keep the venue in tip top shape and to preserve the historical integrity: \\n• \\nAll decor must be free-standing. Nothing can be fastened, hung, taped or stapled to the walls, draperies, stage curtains, plants, garden arbors, railings or floors. \\n• \\nAll decor must comply with San Diego Fire Ordinances: \\n• \\nCandles are allowed inside, but must be protected by a non-flammable container whose top extends at least one inch above the top of the flame. \\n• \\nNo candles are allowed on the floor. \\n• \\nOther types of open flames and fireworks, including sparklers, are not allowed. \\n• \\nNo confetti, birdseed, rice, paper streamers, bubbles, glitter, sand, silly string, small crystals or stones may be used at any time. \\n• \\nNo substance may be applied to the floor. \\n• \\nUse of rose petals (white only, as colored ones will stain the concrete) are permitted for a garden ceremony. \\n\\'What are our responsibilities for clean up? \\nThe caterer is responsible for cleaning all food and beverage related areas. You must make arrangements to remove your decorations, centerpieces and any other personal items. The Thursday Club staff cleans the facility after the event is over. We are not able to accept any early drop off or next day pick-ups. \\nWe want to secure our date, what is the next s t e p ? \\nTo secure your date, we require 50% of the rental fee and a $1000 security deposit. The full rental fee is due 90 days before the event. The security deposit is a refundable deposit to cover damages and honor the contract time. We accept cash, checks, and credit cards. \\nThe heart of The Thursday Club is inspiring women of all ages who share the gift of giving. \\nFor over 100 years our members have combined social activities with fundraisers and volunteer commitments to benefit civic and benevolent projects in Balboa Park and the San Diego community. \\nr The Thursday Club founded in 1921 when four young women formed a club that would combine social activities with worthwhile civic and benevolent projects. It wasn\\'t until 1927, when The Thursday Club was granted the deed to a large parcel of land on a choice spot in the Sunset Cliffs area of Point Loma, that they would realize their dream of having a clubhouse to call their own. Today, the clubhouse is renowned as a beautiful San Diego wedding and event venue with timeless Spanish architecture and expansive ocean views. The venue rental business supports The Thursday Club\\'s philanthropic efforts, along with the clubhouse preservation and improvements \\n1224 Santa B a r b a r a S t r e e t [ San Dj 1 e g so, CA 92107 ww w.TheTh ursdayCIub.org ',\n",
       " 'image_descriptions': [{'image_path': 'The Thursday Club/fileoutpart22.png',\n",
       "   'description': 'Outdoor wedding with a casual, joyful vibe, featuring colorful attire and a simple, elegant archway backdrop.'},\n",
       "  {'image_path': 'The Thursday Club/fileoutpart23.png',\n",
       "   'description': 'Romantic garden wedding venue with lush greenery and vibrant flowers, creating a serene and intimate atmosphere for an outdoor ceremony.'},\n",
       "  {'image_path': 'The Thursday Club/fileoutpart35.png',\n",
       "   'description': 'Elegant seaside wedding venue with classic, romantic style featuring lush greenery, ocean views, and a charming outdoor setting.'},\n",
       "  {'image_path': 'The Thursday Club/fileoutpart21.png',\n",
       "   'description': 'Elegant indoor wedding with a classic theme, featuring soft lighting, intimate atmosphere, and joyful celebration.'},\n",
       "  {'image_path': 'The Thursday Club/fileoutpart20.png',\n",
       "   'description': 'Outdoor wedding with a romantic, joyful theme; features lush greenery and a rustic, Spanish-influenced style with red-tiled roof elements.'},\n",
       "  {'image_path': 'The Thursday Club/fileoutpart34.png',\n",
       "   'description': 'Vintage 1930s style with checkered flooring, wicker furniture, and a cozy fireplace. Ideal for a classic and intimate wedding theme.'},\n",
       "  {'image_path': 'The Thursday Club/fileoutpart24.png',\n",
       "   'description': 'A romantic garden wedding setting featuring lush greenery, classic elegance, and sunset views, perfect for an intimate and timeless ceremony.'},\n",
       "  {'image_path': 'The Thursday Club/fileoutpart19.png',\n",
       "   'description': 'Outdoor wedding with a classic, elegant theme. The setting includes lush greenery and natural lighting, emphasizing a sophisticated and joyful atmosphere.'},\n",
       "  {'image_path': 'The Thursday Club/fileoutpart27.png',\n",
       "   'description': 'Charming outdoor wedding with colorful tile accents, featuring a joyful and intimate atmosphere.'},\n",
       "  {'image_path': 'The Thursday Club/fileoutpart33.png',\n",
       "   'description': 'Historic 1928 Spanish-style building, perfect for vintage-themed weddings.'},\n",
       "  {'image_path': 'The Thursday Club/fileoutpart32.png',\n",
       "   'description': '1930s grand hall with vintage elegance, featuring high ceilings, chandeliers, and a stage, perfect for a traditional and formal wedding theme.'},\n",
       "  {'image_path': 'The Thursday Club/fileoutpart26.png',\n",
       "   'description': 'Outdoor wedding with elegant, modern style; features a bride in a lace gown and groom in a sleek black suit, surrounded by greenery and guests in formal attire.'},\n",
       "  {'image_path': 'The Thursday Club/fileoutpart17.png',\n",
       "   'description': 'Elegant and classic wedding theme with white wooden chairs, round and banquet tables, and soft floral centerpieces in a warmly lit venue.'},\n",
       "  {'image_path': 'The Thursday Club/fileoutpart28.png',\n",
       "   'description': 'Lush garden venue with ocean view, featuring a romantic, natural theme. Ideal for an elegant, outdoor wedding surrounded by greenery and scenic vistas.'},\n",
       "  {'image_path': 'The Thursday Club/fileoutpart29.png',\n",
       "   'description': 'Scenic coastal view offers a romantic, outdoor wedding theme with a serene and picturesque backdrop.'},\n",
       "  {'image_path': 'The Thursday Club/fileoutpart10.png',\n",
       "   'description': 'Elegant and classical wedding venue with white table settings, floral centerpieces, string lights, and a stage, creating a romantic and sophisticated ambiance.'},\n",
       "  {'image_path': 'The Thursday Club/fileoutpart7.png',\n",
       "   'description': 'Elegant outdoor venue with lush greenery and wrought iron details, perfect for a romantic garden-themed wedding.'},\n",
       "  {'image_path': 'The Thursday Club/fileoutpart0.png',\n",
       "   'description': 'Elegant rustic theme with a sophisticated atmosphere, ideal for classic and traditional wedding styles.'},\n",
       "  {'image_path': 'The Thursday Club/fileoutpart2.png',\n",
       "   'description': 'Spanish-style wedding venue with terracotta roof, arched entrance, and lush palm trees. Perfect for a romantic Mediterranean-inspired theme.'}],\n",
       " 'metadata': {'phone': nan,\n",
       "  'address': '1224 Santa Barbara Street\\nSan Diego, CA 92107',\n",
       "  'website': 'https://www.thethursdayclub.org/'}}"
      ]
     },
     "execution_count": 9,
     "metadata": {},
     "output_type": "execute_result"
    }
   ],
   "source": [
    "venue_metadata = load_venue_metadata()\n",
    "preprocess_document(venue[0], venue_metadata)"
   ]
  },
  {
   "cell_type": "code",
   "execution_count": 28,
   "metadata": {},
   "outputs": [
    {
     "name": "stdout",
     "output_type": "stream",
     "text": [
      "Processed document: Santa Maria Country Club\n",
      "Processed document: The Peninsula Beverly Hills\n"
     ]
    }
   ],
   "source": [
    "info = preprocess_documents(venue[1:3], venue_metadata)\n",
    "# PERSIST_DIRECTORY: str = os.getenv(\"DATABASE_DIR\")\n",
    "PERSIST_DIRECTORY = \"notebooks/faiss_db\"\n",
    "\n",
    "add_documents_to_retriever(info, retriever, venue_metadata)\n",
    "retriever.vectorstore.save_local(PERSIST_DIRECTORY)"
   ]
  },
  {
   "cell_type": "code",
   "execution_count": 46,
   "metadata": {},
   "outputs": [],
   "source": [
    "from function.secrets import secrets\n",
    "\n",
    "from langchain_community.vectorstores import FAISS\n",
    "from langchain_openai import OpenAIEmbeddings\n",
    "\n",
    "embedding_model = OpenAIEmbeddings(\n",
    "    model=\"text-embedding-3-large\",\n",
    "    api_key=secrets.OPENAI_API_KEY.get_secret_value(),\n",
    ")\n",
    "# if not os.path.exists(PERSIST_DIRECTORY):\n",
    "# print(\"Fetching database from the cloud...\")\n",
    "# download_faiss_from_cloud(bucket.blob(\"faiss_db\"), PERSIST_DIRECTORY)\n",
    "# Try to load\n",
    "\n",
    "vectorstore = FAISS.load_local(\n",
    "    \"faiss_db\", embedding_model, allow_dangerous_deserialization=True\n",
    ")"
   ]
  },
  {
   "cell_type": "code",
   "execution_count": 50,
   "metadata": {},
   "outputs": [
    {
     "data": {
      "text/plain": [
       "'/Users/lanchu/Documents/projects/001-wedding-venue'"
      ]
     },
     "execution_count": 50,
     "metadata": {},
     "output_type": "execute_result"
    }
   ],
   "source": [
    "from dotenv import find_dotenv\n",
    "\n",
    "path = find_dotenv()\n",
    "PROJECT_ROOT = os.path.dirname(path)"
   ]
  },
  {
   "cell_type": "code",
   "execution_count": 48,
   "metadata": {},
   "outputs": [
    {
     "data": {
      "text/plain": [
       "'/Users/lanchu/Documents/projects/001-wedding-venue/notebooks/faiss_db'"
      ]
     },
     "execution_count": 48,
     "metadata": {},
     "output_type": "execute_result"
    }
   ],
   "source": [
    "os.path.join(os.getcwd(), os.getenv(\"DATABASE_DIR\"))"
   ]
  },
  {
   "cell_type": "code",
   "execution_count": 47,
   "metadata": {},
   "outputs": [
    {
     "name": "stdout",
     "output_type": "stream",
     "text": [
      "dummy text\n",
      "The Thursday Club text\n",
      "The Thursday Club image\n",
      "The Thursday Club image\n",
      "The Thursday Club image\n",
      "The Thursday Club image\n",
      "The Thursday Club image\n",
      "The Thursday Club image\n",
      "The Thursday Club image\n",
      "The Thursday Club image\n",
      "The Thursday Club image\n",
      "The Thursday Club image\n",
      "The Thursday Club image\n",
      "The Thursday Club image\n",
      "The Thursday Club image\n",
      "The Thursday Club image\n",
      "The Thursday Club image\n",
      "The Thursday Club image\n",
      "The Thursday Club image\n",
      "The Thursday Club image\n",
      "The Thursday Club image\n",
      "Santa Maria Country Club text\n",
      "Santa Maria Country Club image\n",
      "Santa Maria Country Club image\n",
      "Santa Maria Country Club image\n",
      "Santa Maria Country Club image\n",
      "Santa Maria Country Club image\n",
      "Santa Maria Country Club image\n",
      "Santa Maria Country Club image\n",
      "Santa Maria Country Club image\n",
      "Santa Maria Country Club image\n",
      "Santa Maria Country Club image\n",
      "Santa Maria Country Club image\n",
      "Santa Maria Country Club image\n",
      "Santa Maria Country Club image\n",
      "Santa Maria Country Club image\n",
      "Santa Maria Country Club image\n",
      "Santa Maria Country Club image\n",
      "Santa Maria Country Club image\n",
      "Santa Maria Country Club image\n",
      "Santa Maria Country Club image\n",
      "Santa Maria Country Club image\n",
      "Santa Maria Country Club image\n",
      "Santa Maria Country Club image\n",
      "Santa Maria Country Club image\n",
      "Santa Maria Country Club image\n",
      "Santa Maria Country Club image\n",
      "Santa Maria Country Club image\n",
      "The Peninsula Beverly Hills text\n",
      "The Peninsula Beverly Hills image\n",
      "The Peninsula Beverly Hills image\n",
      "The Peninsula Beverly Hills image\n",
      "The Peninsula Beverly Hills image\n"
     ]
    }
   ],
   "source": [
    "for item in vectorstore.docstore._dict.values():\n",
    "    print(item.metadata[\"company\"], item.metadata[\"type\"])"
   ]
  },
  {
   "cell_type": "code",
   "execution_count": 37,
   "metadata": {},
   "outputs": [
    {
     "data": {
      "text/plain": [
       "{'58eeee0b-08f4-4026-b2a5-03f4abb80be0': Document(metadata={'company': 'dummy', 'type': 'text'}, page_content='dummy document')}"
      ]
     },
     "execution_count": 37,
     "metadata": {},
     "output_type": "execute_result"
    }
   ],
   "source": [
    "retriever.vectorstore.docstore._dict"
   ]
  },
  {
   "cell_type": "code",
   "execution_count": 40,
   "metadata": {},
   "outputs": [
    {
     "ename": "RuntimeError",
     "evalue": "Error in faiss::FileIOReader::FileIOReader(const char *) at /Users/runner/work/faiss-wheels/faiss-wheels/faiss/faiss/impl/io.cpp:68: Error: 'f' failed: could not open notebooks/faiss_db/index.faiss for reading: No such file or directory",
     "output_type": "error",
     "traceback": [
      "\u001b[0;31m---------------------------------------------------------------------------\u001b[0m",
      "\u001b[0;31mRuntimeError\u001b[0m                              Traceback (most recent call last)",
      "\u001b[0;32m/var/folders/ny/x98qxh1124dbtz5g3f6s09hh0000gn/T/ipykernel_77071/4173601461.py\u001b[0m in \u001b[0;36m?\u001b[0;34m()\u001b[0m\n\u001b[1;32m      5\u001b[0m embedding_model = OpenAIEmbeddings(\n\u001b[1;32m      6\u001b[0m     \u001b[0mmodel\u001b[0m\u001b[0;34m=\u001b[0m\u001b[0;34m\"text-embedding-3-large\"\u001b[0m\u001b[0;34m,\u001b[0m\u001b[0;34m\u001b[0m\u001b[0;34m\u001b[0m\u001b[0m\n\u001b[1;32m      7\u001b[0m     \u001b[0mapi_key\u001b[0m\u001b[0;34m=\u001b[0m\u001b[0mos\u001b[0m\u001b[0;34m.\u001b[0m\u001b[0mgetenv\u001b[0m\u001b[0;34m(\u001b[0m\u001b[0;34m\"OPENAI_API_KEY\"\u001b[0m\u001b[0;34m)\u001b[0m\u001b[0;34m,\u001b[0m\u001b[0;34m\u001b[0m\u001b[0;34m\u001b[0m\u001b[0m\n\u001b[1;32m      8\u001b[0m )\n\u001b[0;32m----> 9\u001b[0;31m vectorstore = FAISS.load_local(\n\u001b[0m\u001b[1;32m     10\u001b[0m     \u001b[0mPERSIST_DIRECTORY\u001b[0m\u001b[0;34m,\u001b[0m \u001b[0membedding_model\u001b[0m\u001b[0;34m,\u001b[0m \u001b[0mallow_dangerous_deserialization\u001b[0m\u001b[0;34m=\u001b[0m\u001b[0;32mTrue\u001b[0m\u001b[0;34m\u001b[0m\u001b[0;34m\u001b[0m\u001b[0m\n\u001b[1;32m     11\u001b[0m )\n",
      "\u001b[0;32m~/mambaforge/envs/wedding-venue/lib/python3.11/site-packages/langchain_community/vectorstores/faiss.py\u001b[0m in \u001b[0;36m?\u001b[0;34m(cls, folder_path, embeddings, index_name, allow_dangerous_deserialization, **kwargs)\u001b[0m\n\u001b[1;32m   1199\u001b[0m             )\n\u001b[1;32m   1200\u001b[0m         \u001b[0mpath\u001b[0m \u001b[0;34m=\u001b[0m \u001b[0mPath\u001b[0m\u001b[0;34m(\u001b[0m\u001b[0mfolder_path\u001b[0m\u001b[0;34m)\u001b[0m\u001b[0;34m\u001b[0m\u001b[0;34m\u001b[0m\u001b[0m\n\u001b[1;32m   1201\u001b[0m         \u001b[0;31m# load index separately since it is not picklable\u001b[0m\u001b[0;34m\u001b[0m\u001b[0;34m\u001b[0m\u001b[0m\n\u001b[1;32m   1202\u001b[0m         \u001b[0mfaiss\u001b[0m \u001b[0;34m=\u001b[0m \u001b[0mdependable_faiss_import\u001b[0m\u001b[0;34m(\u001b[0m\u001b[0;34m)\u001b[0m\u001b[0;34m\u001b[0m\u001b[0;34m\u001b[0m\u001b[0m\n\u001b[0;32m-> 1203\u001b[0;31m         \u001b[0mindex\u001b[0m \u001b[0;34m=\u001b[0m \u001b[0mfaiss\u001b[0m\u001b[0;34m.\u001b[0m\u001b[0mread_index\u001b[0m\u001b[0;34m(\u001b[0m\u001b[0mstr\u001b[0m\u001b[0;34m(\u001b[0m\u001b[0mpath\u001b[0m \u001b[0;34m/\u001b[0m \u001b[0;34mf\"{index_name}.faiss\"\u001b[0m\u001b[0;34m)\u001b[0m\u001b[0;34m)\u001b[0m\u001b[0;34m\u001b[0m\u001b[0;34m\u001b[0m\u001b[0m\n\u001b[0m\u001b[1;32m   1204\u001b[0m \u001b[0;34m\u001b[0m\u001b[0m\n\u001b[1;32m   1205\u001b[0m         \u001b[0;31m# load docstore and index_to_docstore_id\u001b[0m\u001b[0;34m\u001b[0m\u001b[0;34m\u001b[0m\u001b[0m\n\u001b[1;32m   1206\u001b[0m         \u001b[0;32mwith\u001b[0m \u001b[0mopen\u001b[0m\u001b[0;34m(\u001b[0m\u001b[0mpath\u001b[0m \u001b[0;34m/\u001b[0m \u001b[0;34mf\"{index_name}.pkl\"\u001b[0m\u001b[0;34m,\u001b[0m \u001b[0;34m\"rb\"\u001b[0m\u001b[0;34m)\u001b[0m \u001b[0;32mas\u001b[0m \u001b[0mf\u001b[0m\u001b[0;34m:\u001b[0m\u001b[0;34m\u001b[0m\u001b[0;34m\u001b[0m\u001b[0m\n",
      "\u001b[0;32m~/mambaforge/envs/wedding-venue/lib/python3.11/site-packages/faiss/swigfaiss.py\u001b[0m in \u001b[0;36m?\u001b[0;34m(*args)\u001b[0m\n\u001b[1;32m  11321\u001b[0m \u001b[0;32mdef\u001b[0m \u001b[0mread_index\u001b[0m\u001b[0;34m(\u001b[0m\u001b[0;34m*\u001b[0m\u001b[0margs\u001b[0m\u001b[0;34m)\u001b[0m\u001b[0;34m:\u001b[0m\u001b[0;34m\u001b[0m\u001b[0;34m\u001b[0m\u001b[0m\n\u001b[0;32m> 11322\u001b[0;31m     \u001b[0;32mreturn\u001b[0m \u001b[0m_swigfaiss\u001b[0m\u001b[0;34m.\u001b[0m\u001b[0mread_index\u001b[0m\u001b[0;34m(\u001b[0m\u001b[0;34m*\u001b[0m\u001b[0margs\u001b[0m\u001b[0;34m)\u001b[0m\u001b[0;34m\u001b[0m\u001b[0;34m\u001b[0m\u001b[0m\n\u001b[0m",
      "\u001b[0;31mRuntimeError\u001b[0m: Error in faiss::FileIOReader::FileIOReader(const char *) at /Users/runner/work/faiss-wheels/faiss-wheels/faiss/faiss/impl/io.cpp:68: Error: 'f' failed: could not open notebooks/faiss_db/index.faiss for reading: No such file or directory"
     ]
    }
   ],
   "source": [
    "PERSIST_DIRECTORY = \"notebooks/faiss_db\"\n",
    "from langchain_community.vectorstores import FAISS\n",
    "from langchain_openai import OpenAIEmbeddings\n",
    "\n",
    "embedding_model = OpenAIEmbeddings(\n",
    "    model=\"text-embedding-3-large\",\n",
    "    api_key=os.getenv(\"OPENAI_API_KEY\"),\n",
    ")\n",
    "vectorstore = FAISS.load_local(\n",
    "    PERSIST_DIRECTORY, embedding_model, allow_dangerous_deserialization=True\n",
    ")"
   ]
  },
  {
   "cell_type": "code",
   "execution_count": null,
   "metadata": {},
   "outputs": [],
   "source": []
  }
 ],
 "metadata": {
  "kernelspec": {
   "display_name": "wedding",
   "language": "python",
   "name": "python3"
  },
  "language_info": {
   "codemirror_mode": {
    "name": "ipython",
    "version": 3
   },
   "file_extension": ".py",
   "mimetype": "text/x-python",
   "name": "python",
   "nbconvert_exporter": "python",
   "pygments_lexer": "ipython3",
   "version": "3.11.10"
  }
 },
 "nbformat": 4,
 "nbformat_minor": 2
}
