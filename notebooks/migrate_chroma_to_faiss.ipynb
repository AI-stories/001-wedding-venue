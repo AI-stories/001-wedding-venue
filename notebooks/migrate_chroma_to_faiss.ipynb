{
 "cells": [
  {
   "cell_type": "code",
   "execution_count": 1,
   "metadata": {},
   "outputs": [
    {
     "name": "stdout",
     "output_type": "stream",
     "text": [
      "Found 69 documents in Chroma database\n",
      "Successfully migrated and saved FAISS database to faiss_db\n"
     ]
    }
   ],
   "source": [
    "import os\n",
    "from langchain_openai import OpenAIEmbeddings\n",
    "from langchain_community.vectorstores import FAISS\n",
    "from langchain_chroma import Chroma\n",
    "import chromadb\n",
    "from dotenv import load_dotenv\n",
    "\n",
    "from function.secrets import secrets\n",
    "\n",
    "load_dotenv(override=True)\n",
    "\n",
    "from chromadb.config import Settings\n",
    "\n",
    "\n",
    "def migrate_chroma_to_faiss(\n",
    "    chroma_dir: str = \"chroma_db\", faiss_dir: str = \"faiss_db\"\n",
    ") -> None:\n",
    "    \"\"\"\n",
    "    Migrate documents from Chroma to FAISS.\n",
    "\n",
    "    Parameters\n",
    "    ----------\n",
    "    chroma_dir : str\n",
    "        Directory containing the Chroma database\n",
    "    faiss_dir : str\n",
    "        Directory where FAISS database will be saved\n",
    "    \"\"\"\n",
    "    embedding_model = OpenAIEmbeddings(\n",
    "        model=\"text-embedding-3-large\", api_key=secrets.OPENAI_API_KEY\n",
    "    )\n",
    "\n",
    "    chroma_client = chromadb.PersistentClient(\n",
    "        path=chroma_dir,\n",
    "        settings=Settings(anonymized_telemetry=False, allow_reset=True),\n",
    "    )\n",
    "    chroma_db = Chroma(\n",
    "        client=chroma_client,\n",
    "        collection_name=\"multimodal_docs\",\n",
    "        embedding_function=embedding_model,\n",
    "        persist_directory=chroma_dir,\n",
    "    )\n",
    "    results = chroma_db.get()\n",
    "    documents = results[\"documents\"]\n",
    "    metadatas = results[\"metadatas\"]\n",
    "    ids = results[\"ids\"]\n",
    "\n",
    "    print(f\"Found {len(documents)} documents in Chroma database\")\n",
    "\n",
    "    faiss_db = FAISS.from_texts(\n",
    "        texts=documents, embedding=embedding_model, metadatas=metadatas, ids=ids\n",
    "    )\n",
    "\n",
    "    # Save FAISS database\n",
    "    faiss_db.save_local(faiss_dir)\n",
    "    print(f\"Successfully migrated and saved FAISS database to {faiss_dir}\")\n",
    "\n",
    "\n",
    "if __name__ == \"__main__\":\n",
    "    migrate_chroma_to_faiss()"
   ]
  },
  {
   "cell_type": "code",
   "execution_count": null,
   "metadata": {},
   "outputs": [],
   "source": []
  }
 ],
 "metadata": {
  "kernelspec": {
   "display_name": "wedding_venue",
   "language": "python",
   "name": "python3"
  },
  "language_info": {
   "codemirror_mode": {
    "name": "ipython",
    "version": 3
   },
   "file_extension": ".py",
   "mimetype": "text/x-python",
   "name": "python",
   "nbconvert_exporter": "python",
   "pygments_lexer": "ipython3",
   "version": "3.12.7"
  }
 },
 "nbformat": 4,
 "nbformat_minor": 2
}
