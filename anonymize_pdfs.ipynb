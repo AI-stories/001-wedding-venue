{
 "cells": [
  {
   "cell_type": "code",
   "execution_count": 26,
   "metadata": {},
   "outputs": [
    {
     "name": "stderr",
     "output_type": "stream",
     "text": [
      " 47%|████▋     | 128/271 [00:00<00:00, 345.62it/s]"
     ]
    },
    {
     "name": "stdout",
     "output_type": "stream",
     "text": [
      "File Julep Venue contains David\n",
      "File La Venta Inn Palos Verdes contains David\n",
      "File Kimpton Canary Santa Barbara contains David\n",
      "File Vintage Rose contains David\n"
     ]
    },
    {
     "name": "stderr",
     "output_type": "stream",
     "text": [
      " 82%|████████▏ | 223/271 [00:00<00:00, 342.18it/s]"
     ]
    },
    {
     "name": "stdout",
     "output_type": "stream",
     "text": [
      "File The Resort at Pelican Hill contains David\n",
      "File The Lodge at Malibou Lake contains David\n"
     ]
    },
    {
     "name": "stderr",
     "output_type": "stream",
     "text": [
      "100%|██████████| 271/271 [00:00<00:00, 331.81it/s]"
     ]
    },
    {
     "name": "stdout",
     "output_type": "stream",
     "text": [
      "File Redondo Beach Hotel contains David\n"
     ]
    },
    {
     "name": "stderr",
     "output_type": "stream",
     "text": [
      "\n"
     ]
    }
   ],
   "source": [
    "import json\n",
    "import os\n",
    "from tqdm import tqdm\n",
    "\n",
    "\n",
    "def get_contains_david(data):\n",
    "    if isinstance(data, dict):\n",
    "        for key, value in data.items():\n",
    "            if isinstance(value, (dict, list)):\n",
    "                if get_contains_david(value):\n",
    "                    return True\n",
    "            elif isinstance(value, str) and key.lower() == \"text\":\n",
    "                search_terms = [\"david maxwell\", \"dmaxwell2200@gmail.com\"]\n",
    "                value_lower = value.lower()\n",
    "                if any(term in value_lower for term in search_terms):\n",
    "                    return True\n",
    "\n",
    "    elif isinstance(data, list):\n",
    "        for item in data:\n",
    "            if get_contains_david(item):\n",
    "                return True\n",
    "\n",
    "    return False\n",
    "\n",
    "\n",
    "def remove_david_mentions(data):\n",
    "    if isinstance(data, dict):\n",
    "        for key, value in data.items():\n",
    "            if isinstance(value, (dict, list)):\n",
    "                data[key] = remove_david_mentions(value)\n",
    "            elif isinstance(value, str) and key.lower() == \"text\":\n",
    "                # Replace all variations case-insensitively\n",
    "                new_value = value\n",
    "                for term in [\"David\", \"Maxwell\", \"dmaxwell2200@gmail.com\"]:\n",
    "                    # Using case-insensitive regex replacement\n",
    "                    import re\n",
    "\n",
    "                    pattern = re.compile(re.escape(term), re.IGNORECASE)\n",
    "                    new_value = pattern.sub(\"\", new_value)\n",
    "                data[key] = new_value\n",
    "        return data\n",
    "\n",
    "    elif isinstance(data, list):\n",
    "        return [remove_david_mentions(item) for item in data]\n",
    "\n",
    "    return data\n",
    "\n",
    "\n",
    "for file in tqdm(\n",
    "    os.listdir(\n",
    "        \"/Users/mac-robertsocolewicz/Documents/private/001-wedding-venue/processed/adobe_extracted\"\n",
    "    )\n",
    "):\n",
    "    with open(\n",
    "        f\"/Users/mac-robertsocolewicz/Documents/private/001-wedding-venue/processed/adobe_extracted/{file}/structuredData.json\",\n",
    "        \"r\",\n",
    "    ) as f:\n",
    "        data = json.load(f)\n",
    "\n",
    "    if get_contains_david(data):\n",
    "        print(f\"File {file} contains David\")\n",
    "        data = remove_david_mentions(data)\n",
    "        with open(\n",
    "            f\"/Users/mac-robertsocolewicz/Documents/private/001-wedding-venue/processed/adobe_extracted/{file}/structuredData.json\",\n",
    "            \"w\",\n",
    "        ) as f:\n",
    "            json.dump(data, f, indent=2)\n"
   ]
  },
  {
   "cell_type": "markdown",
   "metadata": {},
   "source": [
    "gsutil -o \"GSUtil:parallel_process_count=1\" -m cp \"./processed/adobe_extracted/Julep Venue/structuredData.json\" \"gs://wedding-venues-001/processed/adobe_extracted/Julep Venue/structuredData.json\"\n",
    "\n",
    "gsutil -o \"GSUtil:parallel_process_count=1\" -m cp \"./processed/adobe_extracted/La Venta Inn Palos Verdes/structuredData.json\" \"gs://wedding-venues-001/processed/adobe_extracted/La Venta Inn Palos Verdes/structuredData.json\"\n",
    "\n",
    "gsutil -o \"GSUtil:parallel_process_count=1\" -m cp \"./processed/adobe_extracted/Kimpton Canary Santa Barbara/structuredData.json\" \"gs://wedding-venues-001/processed/adobe_extracted/Kimpton Canary Santa Barbara/structuredData.json\"\n",
    "\n",
    "gsutil -o \"GSUtil:parallel_process_count=1\" -m cp \"./processed/adobe_extracted/Vintage Rose/structuredData.json\" \"gs://wedding-venues-001/processed/adobe_extracted/Vintage Rose/structuredData.json\"\n",
    "\n",
    "gsutil -o \"GSUtil:parallel_process_count=1\" -m cp \"./processed/adobe_extracted/The Resort at Pelican Hill/structuredData.json\" \"gs://wedding-venues-001/processed/adobe_extracted/The Resort at Pelican Hill/structuredData.json\"\n",
    "\n",
    "gsutil -o \"GSUtil:parallel_process_count=1\" -m cp \"./processed/adobe_extracted/The Lodge at Malibou Lake/structuredData.json\" \"gs://wedding-venues-001/processed/adobe_extracted/The Lodge at Malibou Lake/structuredData.json\"\n",
    "\n",
    "gsutil -o \"GSUtil:parallel_process_count=1\" -m cp \"./processed/adobe_extracted/Redondo Beach Hotel/structuredData.json\" \"gs://wedding-venues-001/processed/adobe_extracted/Redondo Beach Hotel/structuredData.json\"\n",
    "\n",
    "\n",
    "\n",
    "\n"
   ]
  },
  {
   "cell_type": "code",
   "execution_count": 23,
   "metadata": {},
   "outputs": [],
   "source": [
    "def get_contains_david(data):\n",
    "    # Handle dictionaries\n",
    "    if isinstance(data, dict):\n",
    "        for key, value in data.items():\n",
    "            # Handle nested dictionaries or lists\n",
    "            if isinstance(value, (dict, list)):\n",
    "                if get_contains_david(value):\n",
    "                    return True\n",
    "            # Check text fields (case insensitive)\n",
    "            elif isinstance(value, str) and key.lower() == \"text\":\n",
    "                search_terms = [\"david maxwell\", \"dmaxwell2200@gmail.com\"]\n",
    "                value_lower = value.lower()\n",
    "                if any(term in value_lower for term in search_terms):\n",
    "                    return True\n",
    "\n",
    "    # Handle lists - check each item, could be dict or other types\n",
    "    elif isinstance(data, list):\n",
    "        for item in data:\n",
    "            if get_contains_david(item):\n",
    "                return True\n",
    "\n",
    "    return False"
   ]
  },
  {
   "cell_type": "code",
   "execution_count": 24,
   "metadata": {},
   "outputs": [
    {
     "data": {
      "text/plain": [
       "True"
      ]
     },
     "execution_count": 24,
     "metadata": {},
     "output_type": "execute_result"
    }
   ],
   "source": [
    "with open(\n",
    "    f\"/Users/mac-robertsocolewicz/Documents/private/001-wedding-venue/processed/adobe_extracted/Julep Venue/structuredData.json\",\n",
    "    \"r\",\n",
    ") as f:\n",
    "    data = json.load(f)\n",
    "get_contains_david(data)\n"
   ]
  },
  {
   "cell_type": "code",
   "execution_count": 9,
   "metadata": {},
   "outputs": [
    {
     "ename": "KeyError",
     "evalue": "'text'",
     "output_type": "error",
     "traceback": [
      "\u001b[0;31m---------------------------------------------------------------------------\u001b[0m",
      "\u001b[0;31mKeyError\u001b[0m                                  Traceback (most recent call last)",
      "Cell \u001b[0;32mIn[9], line 1\u001b[0m\n\u001b[0;32m----> 1\u001b[0m \u001b[43mdata\u001b[49m\u001b[43m[\u001b[49m\u001b[38;5;124;43m'\u001b[39;49m\u001b[38;5;124;43mtext\u001b[39;49m\u001b[38;5;124;43m'\u001b[39;49m\u001b[43m]\u001b[49m\n",
      "\u001b[0;31mKeyError\u001b[0m: 'text'"
     ]
    }
   ],
   "source": [
    "data[\"text\"]"
   ]
  },
  {
   "cell_type": "code",
   "execution_count": 14,
   "metadata": {},
   "outputs": [
    {
     "data": {
      "text/plain": [
       "dict"
      ]
     },
     "execution_count": 14,
     "metadata": {},
     "output_type": "execute_result"
    }
   ],
   "source": [
    "type(data)"
   ]
  },
  {
   "cell_type": "code",
   "execution_count": null,
   "metadata": {},
   "outputs": [],
   "source": []
  }
 ],
 "metadata": {
  "kernelspec": {
   "display_name": "wedding",
   "language": "python",
   "name": "python3"
  },
  "language_info": {
   "codemirror_mode": {
    "name": "ipython",
    "version": 3
   },
   "file_extension": ".py",
   "mimetype": "text/x-python",
   "name": "python",
   "nbconvert_exporter": "python",
   "pygments_lexer": "ipython3",
   "version": "3.11.11"
  }
 },
 "nbformat": 4,
 "nbformat_minor": 2
}
