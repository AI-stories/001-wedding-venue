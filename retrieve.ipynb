{
 "cells": [
  {
   "cell_type": "code",
   "execution_count": 26,
   "metadata": {},
   "outputs": [
    {
     "ename": "SyntaxError",
     "evalue": "invalid syntax (1837277231.py, line 1)",
     "output_type": "error",
     "traceback": [
      "\u001b[0;36m  Cell \u001b[0;32mIn[26], line 1\u001b[0;36m\u001b[0m\n\u001b[0;31m    import function.retriever as retrievervectorstore = initialize_database()\u001b[0m\n\u001b[0m                                                      ^\u001b[0m\n\u001b[0;31mSyntaxError\u001b[0m\u001b[0;31m:\u001b[0m invalid syntax\n"
     ]
    }
   ],
   "source": []
  },
  {
   "cell_type": "code",
   "execution_count": null,
   "metadata": {},
   "outputs": [],
   "source": [
    "from function.retriever import initialize_retriever\n",
    "import shutil\n",
    "import os\n",
    "\n",
    "retriever = initialize_retriever()\n",
    "\n",
    "docs = retriever.vectorstore.docstore._dict.values()\n",
    "for doc in docs:\n",
    "    if (path := doc.metadata.get(\"image_path\")) is not None:\n",
    "        new_path = path.replace(\"processed/good_figures\", \"test_extracted_images\")\n",
    "        os.makedirs(os.path.dirname(new_path), exist_ok=True)\n",
    "        shutil.copy(path, new_path)\n"
   ]
  },
  {
   "cell_type": "code",
   "execution_count": 4,
   "metadata": {},
   "outputs": [
    {
     "name": "stdout",
     "output_type": "stream",
     "text": [
      "Loaded existing FAISS index from faiss_db\n"
     ]
    }
   ],
   "source": [
    "from function.retriever import initialize_retriever\n",
    "import shutil\n",
    "import os\n",
    "\n",
    "retriever = initialize_retriever()\n",
    "\n",
    "docs = retriever.vectorstore.docstore._dict.values()\n",
    "for doc in docs:\n",
    "    if (path := doc.metadata.get(\"image_path\")) is not None:\n",
    "        new_path = path.replace(\"processed/good_figures\", \"test_extracted_images\")\n",
    "        os.makedirs(os.path.dirname(new_path), exist_ok=True)\n",
    "        shutil.copy(path, new_path)\n"
   ]
  },
  {
   "cell_type": "code",
   "execution_count": 3,
   "metadata": {},
   "outputs": [
    {
     "name": "stderr",
     "output_type": "stream",
     "text": [
      "/Users/lanchu/mambaforge/envs/wedding-venue/lib/python3.11/site-packages/langchain/retrievers/document_compressors/chain_extract.py:15: LangChainDeprecationWarning: As of langchain-core 0.3.0, LangChain uses pydantic v2 internally. The langchain_core.pydantic_v1 module was a compatibility shim for pydantic v1, and should no longer be used. Please update the code to import from Pydantic directly.\n",
      "\n",
      "For example, replace imports like: `from langchain_core.pydantic_v1 import BaseModel`\n",
      "with: `from pydantic import BaseModel`\n",
      "or the v1 compatibility namespace if you are working in a code base that has not been fully upgraded to pydantic 2 yet. \tfrom pydantic.v1 import BaseModel\n",
      "\n",
      "  from langchain.chains.llm import LLMChain\n",
      "/Users/lanchu/mambaforge/envs/wedding-venue/lib/python3.11/site-packages/pydantic/_internal/_generate_schema.py:777: UserWarning: Mixing V1 models and V2 models (or constructs, like `TypeAdapter`) is not supported. Please upgrade `ResponseSchema` to V2.\n",
      "  warn(\n",
      "/Users/lanchu/mambaforge/envs/wedding-venue/lib/python3.11/site-packages/pydantic/_internal/_config.py:345: UserWarning: Valid config keys have changed in V2:\n",
      "* 'allow_population_by_field_name' has been renamed to 'populate_by_name'\n",
      "  warnings.warn(message, UserWarning)\n"
     ]
    }
   ],
   "source": [
    "import os\n",
    "from pathlib import Path\n",
    "\n",
    "import chromadb\n",
    "from chromadb.config import Settings\n",
    "from langchain.retrievers.multi_vector import MultiVectorRetriever\n",
    "from langchain.storage import InMemoryStore\n",
    "from langchain_chroma import Chroma\n",
    "from langchain_openai import OpenAIEmbeddings\n",
    "\n",
    "# sys.path.append(\"..\")\n",
    "from function.retriever import add_documents_to_retriever, preprocess_documents\n",
    "from function.secrets import secrets\n",
    "\n",
    "PERSIST_DIRECTORY = \"chroma_db\"\n",
    "PDF_PATH = Path(\"data/test_pdf/\")\n",
    "\n",
    "\n",
    "def initialize_database() -> Chroma:\n",
    "    embedding_model = OpenAIEmbeddings(\n",
    "        model=os.environ.get(\"embedding_model\"), api_key=secrets.OPENAI_API_KEY\n",
    "    )\n",
    "\n",
    "    chroma_client = chromadb.PersistentClient(\n",
    "        path=PERSIST_DIRECTORY,\n",
    "        settings=Settings(anonymized_telemetry=False, allow_reset=True),\n",
    "    )\n",
    "\n",
    "    # Initialize retriever with persistent vectorstore\n",
    "    vectorstore = Chroma(\n",
    "        client=chroma_client,\n",
    "        collection_name=\"multimodal_docs\",\n",
    "        embedding_function=embedding_model,\n",
    "        persist_directory=PERSIST_DIRECTORY,\n",
    "    )\n",
    "\n",
    "    return vectorstore\n",
    "\n",
    "\n",
    "def initialize_retriever(vectorstore: Chroma) -> MultiVectorRetriever:\n",
    "    store = InMemoryStore()\n",
    "    id_key = \"content_id\"\n",
    "    retriever = MultiVectorRetriever(\n",
    "        vectorstore=vectorstore, docstore=store, id_key=id_key, search_kwargs={}\n",
    "    )\n",
    "    return retriever\n",
    "\n",
    "\n",
    "def add_pdfs_to_retriever(pdfs: list[str], retriever: MultiVectorRetriever):\n",
    "    pdf_paths = [PDF_PATH / f\"{pdf}.pdf\" for pdf in pdfs]\n",
    "    doc_infos = preprocess_documents(pdf_paths)\n",
    "    add_documents_to_retriever(doc_infos, retriever)\n",
    "\n",
    "\n",
    "def remove_pdfs_from_retriever(\n",
    "    deleted_pdfs: list[str], retriever: MultiVectorRetriever\n",
    "):\n",
    "    # return  # remove when ready to prevent accidentally deleting pdfs\n",
    "    all_stored_companies = set(\n",
    "        _[\"company\"] for _ in retriever.vectorstore.get()[\"metadatas\"]\n",
    "    )\n",
    "    company_ids = {\n",
    "        venue: retriever.vectorstore.get(where={\"company\": venue})[\"ids\"]\n",
    "        for venue in all_stored_companies\n",
    "    }\n",
    "    for pdf in deleted_pdfs:\n",
    "        retriever.vectorstore.delete(company_ids[pdf])\n",
    "\n",
    "\n",
    "def update_retriever(retriever: MultiVectorRetriever):\n",
    "    all_stored_companies = set(\n",
    "        _[\"company\"] for _ in retriever.vectorstore.get()[\"metadatas\"]\n",
    "    )\n",
    "\n",
    "    all_companies = set(\n",
    "        path.name.replace(\".pdf\", \"\") for path in PDF_PATH.glob(\"*.pdf\")\n",
    "    )\n",
    "\n",
    "    new_pdfs = all_companies - all_stored_companies\n",
    "    deleted_pdfs = all_stored_companies - all_companies\n",
    "\n",
    "    add_pdfs_to_retriever(new_pdfs, retriever)\n",
    "    remove_pdfs_from_retriever(deleted_pdfs, retriever)\n",
    "\n",
    "    print(f\"all pdfs in {PDF_PATH}: {all_companies}\")\n",
    "    print(f\"all pdfs in database: {all_stored_companies}\")\n",
    "    print(f\"new pdfs: {new_pdfs}\")\n",
    "    print(f\"deleted pdfs: {deleted_pdfs}\")"
   ]
  },
  {
   "cell_type": "code",
   "execution_count": 4,
   "metadata": {},
   "outputs": [
    {
     "name": "stdout",
     "output_type": "stream",
     "text": [
      "all pdfs in data/test_pdf: {'2024 Sherwood Country Club Wedding Packages', '_2024 Weddings at Lake Arrowhead~-merged', '2024 Queen Mary Ceremony Locations-merged'}\n",
      "all pdfs in database: {'2024 Sherwood Country Club Wedding Packages', '_2024 Weddings at Lake Arrowhead~-merged', '2024 Queen Mary Ceremony Locations-merged'}\n",
      "new pdfs: set()\n",
      "deleted pdfs: set()\n"
     ]
    }
   ],
   "source": [
    "vectorstore = initialize_database()\n",
    "retriever = initialize_retriever(vectorstore)\n",
    "update_retriever(retriever)"
   ]
  },
  {
   "cell_type": "code",
   "execution_count": 4,
   "metadata": {},
   "outputs": [],
   "source": [
    "vectorstore = initialize_database()\n",
    "retriever = initialize_retriever(vectorstore)"
   ]
  },
  {
   "cell_type": "code",
   "execution_count": 7,
   "metadata": {},
   "outputs": [
    {
     "data": {
      "text/plain": [
       "dict_keys(['ids', 'embeddings', 'documents', 'uris', 'data', 'metadatas', 'included'])"
      ]
     },
     "execution_count": 7,
     "metadata": {},
     "output_type": "execute_result"
    }
   ],
   "source": [
    "retriever.vectorstore.get().keys()"
   ]
  },
  {
   "cell_type": "code",
   "execution_count": 11,
   "metadata": {},
   "outputs": [
    {
     "name": "stdout",
     "output_type": "stream",
     "text": [
      "company: _2024 Weddings at Lake Arrowhead~-merged\n",
      "company: 2024 Queen Mary Ceremony Locations-merged\n",
      "company: 2024 Sherwood Country Club Wedding Packages\n"
     ]
    }
   ],
   "source": [
    "all_stored_companies = set(\n",
    "    _[\"company\"] for _ in retriever.vectorstore.get()[\"metadatas\"]\n",
    ")\n",
    "all_stored_companies\n",
    "for company in all_stored_companies:\n",
    "    print(f\"company: {company}\")"
   ]
  },
  {
   "cell_type": "code",
   "execution_count": 23,
   "metadata": {},
   "outputs": [
    {
     "name": "stdout",
     "output_type": "stream",
     "text": [
      "Summary of database:\n",
      "--------------------\n",
      "Number of companies: 3\n",
      "Number of texts: 3\n",
      "Number of image descriptions: 66\n"
     ]
    }
   ],
   "source": [
    "texts = 0\n",
    "images = 0\n",
    "companies = 0\n",
    "known_companies = []\n",
    "for entry in retriever.vectorstore.get()[\"metadatas\"]:\n",
    "    if entry[\"type\"] == \"text\":\n",
    "        texts += 1\n",
    "    if entry[\"type\"] == \"image\":\n",
    "        images += 1\n",
    "    if (company := entry[\"company\"]) not in known_companies:\n",
    "        known_companies.append(company)\n",
    "        companies += 1\n",
    "print(\"Summary of database:\")\n",
    "print(\"--------------------\")\n",
    "print(f\"Number of companies: {companies}\")\n",
    "print(f\"Number of texts: {texts}\")\n",
    "print(f\"Number of image descriptions: {images}\")\n"
   ]
  },
  {
   "cell_type": "code",
   "execution_count": null,
   "metadata": {},
   "outputs": [],
   "source": []
  },
  {
   "cell_type": "code",
   "execution_count": 1,
   "metadata": {},
   "outputs": [
    {
     "data": {
      "text/plain": [
       "\"\\n    You are a helpful assistant for a wedding venue search system. \\n    Use the provided context to answer questions about wedding venues \\n    and related information. \\n    The provided context contains the text from documents and the \\n    description of images from the document. Consider both to answer \\n    the question.\\n    If the information isn't in the context, say so. \\n    Be concise but informative.\""
      ]
     },
     "execution_count": 1,
     "metadata": {},
     "output_type": "execute_result"
    }
   ],
   "source": [
    "system_prompt = \"\"\"\n",
    "    You are a helpful assistant for a wedding venue search system. \n",
    "    Use the provided context to answer questions about wedding venues \n",
    "    and related information. \n",
    "    The provided context contains the text from documents and the \n",
    "    description of images from the document. Consider both to answer \n",
    "    the question.\n",
    "    If the information isn't in the context, say so. \n",
    "    Be concise but informative.\"\"\"\n",
    "system_prompt"
   ]
  },
  {
   "cell_type": "code",
   "execution_count": 3,
   "metadata": {},
   "outputs": [
    {
     "data": {
      "text/plain": [
       "{'2024 Queen Mary Ceremony Locations-merged',\n",
       " '2024 Sherwood Country Club Wedding Packages',\n",
       " '_2024 Weddings at Lake Arrowhead~-merged'}"
      ]
     },
     "execution_count": 3,
     "metadata": {},
     "output_type": "execute_result"
    }
   ],
   "source": [
    "vectorstore = initialize_database()\n",
    "retriever = initialize_retriever(vectorstore)\n",
    "all_stored_companies = set(\n",
    "    _[\"company\"] for _ in retriever.vectorstore.get()[\"metadatas\"]\n",
    ")\n",
    "all_stored_companies"
   ]
  },
  {
   "cell_type": "code",
   "execution_count": 10,
   "metadata": {},
   "outputs": [
    {
     "data": {
      "text/plain": [
       "{'2024 WEDDING PACKAGES', '_2024 Weddings at Lake Arrowhead~-merged'}"
      ]
     },
     "execution_count": 10,
     "metadata": {},
     "output_type": "execute_result"
    }
   ],
   "source": [
    "all_stored_companies = set(\n",
    "    _[\"company\"] for _ in retriever.vectorstore.get()[\"metadatas\"]\n",
    ")\n",
    "all_stored_companies"
   ]
  }
 ],
 "metadata": {
  "kernelspec": {
   "display_name": "Python 3",
   "language": "python",
   "name": "python3"
  },
  "language_info": {
   "codemirror_mode": {
    "name": "ipython",
    "version": 3
   },
   "file_extension": ".py",
   "mimetype": "text/x-python",
   "name": "python",
   "nbconvert_exporter": "python",
   "pygments_lexer": "ipython3",
   "version": "3.11.10"
  }
 },
 "nbformat": 4,
 "nbformat_minor": 2
}
