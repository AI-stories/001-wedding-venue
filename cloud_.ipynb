{
 "cells": [
  {
   "cell_type": "code",
   "execution_count": 14,
   "metadata": {},
   "outputs": [],
   "source": [
    "import os\n",
    "\n",
    "from dotenv import load_dotenv\n",
    "from google.cloud import storage\n",
    "from google.cloud.storage import Client, transfer_manager\n",
    "import re\n",
    "\n",
    "from pathlib import Path\n",
    "\n",
    "load_dotenv()\n",
    "\n",
    "BUCKET_NAME = \"wedding-venues-001\"\n",
    "\n",
    "\n",
    "def list_files(filter=None):\n",
    "    if filter is not None:\n",
    "        filter = re.compile(filter, re.IGNORECASE)\n",
    "\n",
    "    client = storage.Client()\n",
    "    bucket = client.bucket(BUCKET_NAME)\n",
    "    blobs = bucket.list_blobs()\n",
    "    return [blob.name for blob in blobs if filter is None or filter.search(blob.name)]\n",
    "\n",
    "\n",
    "def download_file(source_blob_name: str, destination_file_name: str):\n",
    "    os.makedirs(os.path.dirname(destination_file_name), exist_ok=True)\n",
    "\n",
    "    client = storage.Client()\n",
    "    bucket = client.bucket(BUCKET_NAME)\n",
    "    blob = bucket.blob(source_blob_name)\n",
    "\n",
    "    blob.download_to_filename(destination_file_name)\n",
    "    return destination_file_name\n",
    "\n",
    "\n",
    "def download_files(files: list[str]):\n",
    "    client = Client()\n",
    "    bucket = client.bucket(BUCKET_NAME)\n",
    "\n",
    "    downloads = [(bucket.blob(file_name), file_name) for file_name in files]\n",
    "\n",
    "    for _, dest_path in downloads:\n",
    "        os.makedirs(os.path.dirname(dest_path), exist_ok=True)\n",
    "\n",
    "    results = transfer_manager.download_many(\n",
    "        downloads,\n",
    "        max_workers=10,\n",
    "    )\n",
    "\n",
    "    return results\n",
    "\n",
    "\n",
    "def upload_file(source_file_path: str, destination_blob_name: str | None = None) -> str:\n",
    "    \"\"\"\n",
    "    Upload a single file to Google Cloud Storage.\n",
    "\n",
    "    Parameters\n",
    "    ----------\n",
    "    source_file_path : str\n",
    "        Local path to the file to upload\n",
    "    destination_blob_name : str, optional\n",
    "        Destination path in the bucket. If None, uses the source filename\n",
    "\n",
    "    Returns\n",
    "    -------\n",
    "    str\n",
    "        The public URL of the uploaded file\n",
    "    \"\"\"\n",
    "    if destination_blob_name is None:\n",
    "        destination_blob_name = Path(source_file_path).name\n",
    "\n",
    "    client = storage.Client()\n",
    "    bucket = client.bucket(BUCKET_NAME)\n",
    "    blob = bucket.blob(destination_blob_name)\n",
    "\n",
    "    blob.upload_from_filename(source_file_path)\n",
    "\n",
    "    return blob.public_url\n",
    "\n",
    "\n",
    "def upload_files(file_pairs: list[tuple[str, str]]) -> list[str]:\n",
    "    \"\"\"\n",
    "    Upload multiple files to Google Cloud Storage in parallel.\n",
    "\n",
    "    Parameters\n",
    "    ----------\n",
    "    file_pairs : list[tuple[str, str]]\n",
    "        List of (source_path, destination_path) tuples\n",
    "\n",
    "    Returns\n",
    "    -------\n",
    "    list[str]\n",
    "        List of public URLs for the uploaded files\n",
    "    \"\"\"\n",
    "    client = Client()\n",
    "    bucket = client.bucket(BUCKET_NAME)\n",
    "\n",
    "    # Create list of (source_file, destination_blob) tuples\n",
    "    uploads = [\n",
    "        (file_path, bucket.blob(dest_path)) for file_path, dest_path in file_pairs\n",
    "    ]\n",
    "\n",
    "    # Upload files in parallel\n",
    "    results = transfer_manager.upload_many(\n",
    "        uploads,\n",
    "        max_workers=10,\n",
    "    )\n",
    "\n",
    "    # Return public URLs of uploaded files\n",
    "    return [blob.public_url for _, blob in uploads]\n",
    "\n",
    "\n",
    "def upload_directory(local_directory: str, bucket_prefix: str = \"\") -> list[str]:\n",
    "    \"\"\"\n",
    "    Upload an entire directory and its contents recursively.\n",
    "\n",
    "    Parameters\n",
    "    ----------\n",
    "    local_directory : str\n",
    "        Path to local directory to upload\n",
    "    bucket_prefix : str, optional\n",
    "        Prefix to add to all files in the bucket\n",
    "\n",
    "    Returns\n",
    "    -------\n",
    "    list[str]\n",
    "        List of public URLs for all uploaded files\n",
    "    \"\"\"\n",
    "    local_dir = Path(local_directory)\n",
    "\n",
    "    # Get all files in directory and subdirectories\n",
    "    all_files = [\n",
    "        (str(path), os.path.join(bucket_prefix, path.relative_to(local_dir).as_posix()))\n",
    "        for path in local_dir.rglob(\"*\")\n",
    "        if path.is_file()\n",
    "    ]\n",
    "\n",
    "    return upload_files(all_files)"
   ]
  },
  {
   "cell_type": "code",
   "execution_count": 15,
   "metadata": {},
   "outputs": [
    {
     "data": {
      "text/plain": [
       "['Southern California Wedding Venues/Porter Valley Country Club.pdf',\n",
       " 'venues/Porter Valley Country Club/Porter Valley Country Club.pdf']"
      ]
     },
     "execution_count": 15,
     "metadata": {},
     "output_type": "execute_result"
    }
   ],
   "source": [
    "list_files(\"porter\")"
   ]
  },
  {
   "cell_type": "code",
   "execution_count": 16,
   "metadata": {},
   "outputs": [
    {
     "data": {
      "text/plain": [
       "['retrieve.ipynb']"
      ]
     },
     "execution_count": 16,
     "metadata": {},
     "output_type": "execute_result"
    }
   ],
   "source": [
    "upload_file(\"retrieve.ipynb\", \"retrieve.ipynb\")\n",
    "list_files(\"retrieve\")"
   ]
  },
  {
   "cell_type": "code",
   "execution_count": 17,
   "metadata": {},
   "outputs": [
    {
     "data": {
      "text/plain": [
       "['notebooks/adobe.ipynb',\n",
       " 'notebooks/google_drive.ipynb',\n",
       " 'notebooks/googlesearchapi.ipynb']"
      ]
     },
     "execution_count": 17,
     "metadata": {},
     "output_type": "execute_result"
    }
   ],
   "source": [
    "upload_files(\n",
    "    [\n",
    "        (\"notebooks/adobe.ipynb\", \"notebooks/adobe.ipynb\"),\n",
    "        (\"notebooks/google_drive.ipynb\", \"notebooks/google_drive.ipynb\"),\n",
    "        (\"notebooks/googlesearchapi.ipynb\", \"notebooks/googlesearchapi.ipynb\"),\n",
    "    ]\n",
    ")\n",
    "list_files(\"notebooks\")\n"
   ]
  },
  {
   "cell_type": "code",
   "execution_count": 19,
   "metadata": {},
   "outputs": [
    {
     "data": {
      "text/plain": [
       "['functions/__init__.py',\n",
       " 'functions/__pycache__/__init__.cpython-312.pyc',\n",
       " 'functions/__pycache__/pdf_loader.cpython-312.pyc',\n",
       " 'functions/__pycache__/process_image.cpython-312.pyc',\n",
       " 'functions/is_photo.ipynb',\n",
       " 'functions/llm.py',\n",
       " 'functions/model.bin',\n",
       " 'functions/pdf_loader.py',\n",
       " 'functions/process_image.py',\n",
       " 'functions/retriever.py',\n",
       " 'functions/scraper.py']"
      ]
     },
     "execution_count": 19,
     "metadata": {},
     "output_type": "execute_result"
    }
   ],
   "source": [
    "upload_directory(\"function\", \"functions/\")\n",
    "list_files(\"function\")\n"
   ]
  }
 ],
 "metadata": {
  "kernelspec": {
   "display_name": "wedding_venue",
   "language": "python",
   "name": "python3"
  },
  "language_info": {
   "codemirror_mode": {
    "name": "ipython",
    "version": 3
   },
   "file_extension": ".py",
   "mimetype": "text/x-python",
   "name": "python",
   "nbconvert_exporter": "python",
   "pygments_lexer": "ipython3",
   "version": "3.12.7"
  }
 },
 "nbformat": 4,
 "nbformat_minor": 2
}
