{
 "cells": [
  {
   "cell_type": "code",
   "execution_count": 1,
   "metadata": {},
   "outputs": [
    {
     "ename": "ModuleNotFoundError",
     "evalue": "No module named 'langchain_chroma'",
     "output_type": "error",
     "traceback": [
      "\u001b[0;31m---------------------------------------------------------------------------\u001b[0m",
      "\u001b[0;31mModuleNotFoundError\u001b[0m                       Traceback (most recent call last)",
      "Cell \u001b[0;32mIn[1], line 4\u001b[0m\n\u001b[1;32m      2\u001b[0m \u001b[38;5;28;01mfrom\u001b[39;00m \u001b[38;5;21;01mlangchain_openai\u001b[39;00m \u001b[38;5;28;01mimport\u001b[39;00m OpenAIEmbeddings\n\u001b[1;32m      3\u001b[0m \u001b[38;5;28;01mfrom\u001b[39;00m \u001b[38;5;21;01mlangchain_community\u001b[39;00m\u001b[38;5;21;01m.\u001b[39;00m\u001b[38;5;21;01mvectorstores\u001b[39;00m \u001b[38;5;28;01mimport\u001b[39;00m FAISS\n\u001b[0;32m----> 4\u001b[0m \u001b[38;5;28;01mfrom\u001b[39;00m \u001b[38;5;21;01mlangchain_chroma\u001b[39;00m \u001b[38;5;28;01mimport\u001b[39;00m Chroma\n\u001b[1;32m      5\u001b[0m \u001b[38;5;28;01mimport\u001b[39;00m \u001b[38;5;21;01mchromadb\u001b[39;00m\n\u001b[1;32m      6\u001b[0m \u001b[38;5;28;01mfrom\u001b[39;00m \u001b[38;5;21;01mdotenv\u001b[39;00m \u001b[38;5;28;01mimport\u001b[39;00m load_dotenv\n",
      "\u001b[0;31mModuleNotFoundError\u001b[0m: No module named 'langchain_chroma'"
     ]
    }
   ],
   "source": [
    "import os\n",
    "from langchain_openai import OpenAIEmbeddings\n",
    "from langchain_community.vectorstores import FAISS\n",
    "from langchain_chroma import Chroma\n",
    "import chromadb\n",
    "from dotenv import load_dotenv\n",
    "\n",
    "from function.secrets import secrets\n",
    "\n",
    "load_dotenv(override=True)\n",
    "\n",
    "from chromadb.config import Settings\n",
    "\n",
    "\n",
    "def migrate_chroma_to_faiss(\n",
    "    chroma_dir: str = \"chroma_db\", faiss_dir: str = \"faiss_db\"\n",
    ") -> None:\n",
    "    \"\"\"\n",
    "    Migrate documents from Chroma to FAISS.\n",
    "\n",
    "    Parameters\n",
    "    ----------\n",
    "    chroma_dir : str\n",
    "        Directory containing the Chroma database\n",
    "    faiss_dir : str\n",
    "        Directory where FAISS database will be saved\n",
    "    \"\"\"\n",
    "    embedding_model = OpenAIEmbeddings(\n",
    "        model=\"text-embedding-3-large\", api_key=secrets.OPENAI_API_KEY\n",
    "    )\n",
    "\n",
    "    chroma_client = chromadb.PersistentClient(\n",
    "        path=chroma_dir,\n",
    "        settings=Settings(anonymized_telemetry=False, allow_reset=True),\n",
    "    )\n",
    "    chroma_db = Chroma(\n",
    "        client=chroma_client,\n",
    "        collection_name=\"multimodal_docs\",\n",
    "        embedding_function=embedding_model,\n",
    "        persist_directory=chroma_dir,\n",
    "    )\n",
    "    results = chroma_db.get()\n",
    "    documents = results[\"documents\"]\n",
    "    metadatas = results[\"metadatas\"]\n",
    "    ids = results[\"ids\"]\n",
    "\n",
    "    print(f\"Found {len(documents)} documents in Chroma database\")\n",
    "\n",
    "    faiss_db = FAISS.from_texts(\n",
    "        texts=documents, embedding=embedding_model, metadatas=metadatas, ids=ids\n",
    "    )\n",
    "\n",
    "    # Save FAISS database\n",
    "    faiss_db.save_local(faiss_dir)\n",
    "    print(f\"Successfully migrated and saved FAISS database to {faiss_dir}\")\n",
    "\n",
    "\n",
    "if __name__ == \"__main__\":\n",
    "    migrate_chroma_to_faiss()"
   ]
  },
  {
   "cell_type": "code",
   "execution_count": null,
   "metadata": {},
   "outputs": [],
   "source": []
  }
 ],
 "metadata": {
  "kernelspec": {
   "display_name": "wedding_venue",
   "language": "python",
   "name": "python3"
  },
  "language_info": {
   "codemirror_mode": {
    "name": "ipython",
    "version": 3
   },
   "file_extension": ".py",
   "mimetype": "text/x-python",
   "name": "python",
   "nbconvert_exporter": "python",
   "pygments_lexer": "ipython3",
   "version": "3.11.11"
  }
 },
 "nbformat": 4,
 "nbformat_minor": 2
}
